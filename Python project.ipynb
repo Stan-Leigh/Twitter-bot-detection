{
 "cells": [
  {
   "cell_type": "code",
   "execution_count": 40,
   "id": "2dffbaac",
   "metadata": {},
   "outputs": [],
   "source": [
    "import pandas as pd\n",
    "import numpy as np\n",
    "import matplotlib.pyplot as plt\n",
    "import seaborn as sns\n",
    "from matplotlib.pyplot import figure\n",
    "%matplotlib inline"
   ]
  },
  {
   "cell_type": "code",
   "execution_count": 2,
   "id": "16a2ba7e",
   "metadata": {},
   "outputs": [
    {
     "data": {
      "text/html": [
       "<div>\n",
       "<style scoped>\n",
       "    .dataframe tbody tr th:only-of-type {\n",
       "        vertical-align: middle;\n",
       "    }\n",
       "\n",
       "    .dataframe tbody tr th {\n",
       "        vertical-align: top;\n",
       "    }\n",
       "\n",
       "    .dataframe thead th {\n",
       "        text-align: right;\n",
       "    }\n",
       "</style>\n",
       "<table border=\"1\" class=\"dataframe\">\n",
       "  <thead>\n",
       "    <tr style=\"text-align: right;\">\n",
       "      <th></th>\n",
       "      <th>created_at</th>\n",
       "      <th>default_profile</th>\n",
       "      <th>default_profile_image</th>\n",
       "      <th>description</th>\n",
       "      <th>favourites_count</th>\n",
       "      <th>followers_count</th>\n",
       "      <th>friends_count</th>\n",
       "      <th>geo_enabled</th>\n",
       "      <th>id</th>\n",
       "      <th>lang</th>\n",
       "      <th>location</th>\n",
       "      <th>profile_background_image_url</th>\n",
       "      <th>profile_image_url</th>\n",
       "      <th>screen_name</th>\n",
       "      <th>statuses_count</th>\n",
       "      <th>verified</th>\n",
       "      <th>average_tweets_per_day</th>\n",
       "      <th>account_age_days</th>\n",
       "      <th>account_type</th>\n",
       "    </tr>\n",
       "  </thead>\n",
       "  <tbody>\n",
       "    <tr>\n",
       "      <th>0</th>\n",
       "      <td>15/10/2016 21:32</td>\n",
       "      <td>False</td>\n",
       "      <td>False</td>\n",
       "      <td>Blame @xaiax, Inspired by @MakingInvisible, us...</td>\n",
       "      <td>4</td>\n",
       "      <td>1589</td>\n",
       "      <td>4</td>\n",
       "      <td>False</td>\n",
       "      <td>7.874060e+17</td>\n",
       "      <td>en</td>\n",
       "      <td>unknown</td>\n",
       "      <td>http://abs.twimg.com/images/themes/theme1/bg.png</td>\n",
       "      <td>http://pbs.twimg.com/profile_images/7874121826...</td>\n",
       "      <td>best_in_dumbest</td>\n",
       "      <td>11041</td>\n",
       "      <td>False</td>\n",
       "      <td>7.870</td>\n",
       "      <td>1403</td>\n",
       "      <td>bot</td>\n",
       "    </tr>\n",
       "    <tr>\n",
       "      <th>1</th>\n",
       "      <td>09/11/2016 5:01</td>\n",
       "      <td>False</td>\n",
       "      <td>False</td>\n",
       "      <td>Photographing the American West since 1980. I ...</td>\n",
       "      <td>536</td>\n",
       "      <td>860</td>\n",
       "      <td>880</td>\n",
       "      <td>False</td>\n",
       "      <td>7.962160e+17</td>\n",
       "      <td>en</td>\n",
       "      <td>Estados Unidos</td>\n",
       "      <td>http://abs.twimg.com/images/themes/theme1/bg.png</td>\n",
       "      <td>http://pbs.twimg.com/profile_images/8023296328...</td>\n",
       "      <td>CJRubinPhoto</td>\n",
       "      <td>252</td>\n",
       "      <td>False</td>\n",
       "      <td>0.183</td>\n",
       "      <td>1379</td>\n",
       "      <td>human</td>\n",
       "    </tr>\n",
       "    <tr>\n",
       "      <th>2</th>\n",
       "      <td>17/06/2017 5:34</td>\n",
       "      <td>False</td>\n",
       "      <td>False</td>\n",
       "      <td>Scruffy looking nerf herder and @twitch broadc...</td>\n",
       "      <td>3307</td>\n",
       "      <td>172</td>\n",
       "      <td>594</td>\n",
       "      <td>True</td>\n",
       "      <td>8.759500e+17</td>\n",
       "      <td>en</td>\n",
       "      <td>Los Angeles, CA</td>\n",
       "      <td>http://abs.twimg.com/images/themes/theme1/bg.png</td>\n",
       "      <td>http://pbs.twimg.com/profile_images/1278890453...</td>\n",
       "      <td>SVGEGENT</td>\n",
       "      <td>1001</td>\n",
       "      <td>False</td>\n",
       "      <td>0.864</td>\n",
       "      <td>1159</td>\n",
       "      <td>human</td>\n",
       "    </tr>\n",
       "    <tr>\n",
       "      <th>3</th>\n",
       "      <td>21/07/2016 13:32</td>\n",
       "      <td>True</td>\n",
       "      <td>False</td>\n",
       "      <td>Wife.Godmother.Friend.Feline Fanatic! Assistan...</td>\n",
       "      <td>8433</td>\n",
       "      <td>517</td>\n",
       "      <td>633</td>\n",
       "      <td>True</td>\n",
       "      <td>7.561200e+17</td>\n",
       "      <td>en</td>\n",
       "      <td>Birmingham, AL</td>\n",
       "      <td>NaN</td>\n",
       "      <td>http://pbs.twimg.com/profile_images/1284884924...</td>\n",
       "      <td>TinkerVHELPK5</td>\n",
       "      <td>1324</td>\n",
       "      <td>False</td>\n",
       "      <td>0.889</td>\n",
       "      <td>1489</td>\n",
       "      <td>human</td>\n",
       "    </tr>\n",
       "    <tr>\n",
       "      <th>4</th>\n",
       "      <td>15/01/2012 16:32</td>\n",
       "      <td>False</td>\n",
       "      <td>False</td>\n",
       "      <td>Loan coach at @mancity &amp; Aspiring DJ</td>\n",
       "      <td>88</td>\n",
       "      <td>753678</td>\n",
       "      <td>116</td>\n",
       "      <td>True</td>\n",
       "      <td>4.647813e+08</td>\n",
       "      <td>en</td>\n",
       "      <td>England, United Kingdom</td>\n",
       "      <td>http://abs.twimg.com/images/themes/theme1/bg.png</td>\n",
       "      <td>http://pbs.twimg.com/profile_images/9952566258...</td>\n",
       "      <td>JoleonLescott</td>\n",
       "      <td>4202</td>\n",
       "      <td>True</td>\n",
       "      <td>1.339</td>\n",
       "      <td>3138</td>\n",
       "      <td>human</td>\n",
       "    </tr>\n",
       "  </tbody>\n",
       "</table>\n",
       "</div>"
      ],
      "text/plain": [
       "         created_at  default_profile  default_profile_image  \\\n",
       "0  15/10/2016 21:32            False                  False   \n",
       "1   09/11/2016 5:01            False                  False   \n",
       "2   17/06/2017 5:34            False                  False   \n",
       "3  21/07/2016 13:32             True                  False   \n",
       "4  15/01/2012 16:32            False                  False   \n",
       "\n",
       "                                         description  favourites_count  \\\n",
       "0  Blame @xaiax, Inspired by @MakingInvisible, us...                 4   \n",
       "1  Photographing the American West since 1980. I ...               536   \n",
       "2  Scruffy looking nerf herder and @twitch broadc...              3307   \n",
       "3  Wife.Godmother.Friend.Feline Fanatic! Assistan...              8433   \n",
       "4               Loan coach at @mancity & Aspiring DJ                88   \n",
       "\n",
       "   followers_count  friends_count  geo_enabled            id lang  \\\n",
       "0             1589              4        False  7.874060e+17   en   \n",
       "1              860            880        False  7.962160e+17   en   \n",
       "2              172            594         True  8.759500e+17   en   \n",
       "3              517            633         True  7.561200e+17   en   \n",
       "4           753678            116         True  4.647813e+08   en   \n",
       "\n",
       "                  location                      profile_background_image_url  \\\n",
       "0                  unknown  http://abs.twimg.com/images/themes/theme1/bg.png   \n",
       "1           Estados Unidos  http://abs.twimg.com/images/themes/theme1/bg.png   \n",
       "2          Los Angeles, CA  http://abs.twimg.com/images/themes/theme1/bg.png   \n",
       "3           Birmingham, AL                                               NaN   \n",
       "4  England, United Kingdom  http://abs.twimg.com/images/themes/theme1/bg.png   \n",
       "\n",
       "                                   profile_image_url      screen_name  \\\n",
       "0  http://pbs.twimg.com/profile_images/7874121826...  best_in_dumbest   \n",
       "1  http://pbs.twimg.com/profile_images/8023296328...     CJRubinPhoto   \n",
       "2  http://pbs.twimg.com/profile_images/1278890453...         SVGEGENT   \n",
       "3  http://pbs.twimg.com/profile_images/1284884924...    TinkerVHELPK5   \n",
       "4  http://pbs.twimg.com/profile_images/9952566258...    JoleonLescott   \n",
       "\n",
       "   statuses_count  verified  average_tweets_per_day  account_age_days  \\\n",
       "0           11041     False                   7.870              1403   \n",
       "1             252     False                   0.183              1379   \n",
       "2            1001     False                   0.864              1159   \n",
       "3            1324     False                   0.889              1489   \n",
       "4            4202      True                   1.339              3138   \n",
       "\n",
       "  account_type  \n",
       "0          bot  \n",
       "1        human  \n",
       "2        human  \n",
       "3        human  \n",
       "4        human  "
      ]
     },
     "execution_count": 2,
     "metadata": {},
     "output_type": "execute_result"
    }
   ],
   "source": [
    "df = pd.read_csv('twitter_human_bots_dataset.csv', index_col=0)\n",
    "\n",
    "df.head()"
   ]
  },
  {
   "cell_type": "code",
   "execution_count": 3,
   "id": "f90d6027",
   "metadata": {},
   "outputs": [
    {
     "data": {
      "text/plain": [
       "(37438, 19)"
      ]
     },
     "execution_count": 3,
     "metadata": {},
     "output_type": "execute_result"
    }
   ],
   "source": [
    "df.shape"
   ]
  },
  {
   "cell_type": "code",
   "execution_count": 4,
   "id": "3c4a8361",
   "metadata": {},
   "outputs": [
    {
     "name": "stdout",
     "output_type": "stream",
     "text": [
      "<class 'pandas.core.frame.DataFrame'>\n",
      "Int64Index: 37438 entries, 0 to 37437\n",
      "Data columns (total 19 columns):\n",
      " #   Column                        Non-Null Count  Dtype  \n",
      "---  ------                        --------------  -----  \n",
      " 0   created_at                    37438 non-null  object \n",
      " 1   default_profile               37438 non-null  bool   \n",
      " 2   default_profile_image         37438 non-null  bool   \n",
      " 3   description                   30182 non-null  object \n",
      " 4   favourites_count              37438 non-null  int64  \n",
      " 5   followers_count               37438 non-null  int64  \n",
      " 6   friends_count                 37438 non-null  int64  \n",
      " 7   geo_enabled                   37438 non-null  bool   \n",
      " 8   id                            37438 non-null  float64\n",
      " 9   lang                          29481 non-null  object \n",
      " 10  location                      37435 non-null  object \n",
      " 11  profile_background_image_url  32939 non-null  object \n",
      " 12  profile_image_url             37437 non-null  object \n",
      " 13  screen_name                   37438 non-null  object \n",
      " 14  statuses_count                37438 non-null  int64  \n",
      " 15  verified                      37438 non-null  bool   \n",
      " 16  average_tweets_per_day        37438 non-null  float64\n",
      " 17  account_age_days              37438 non-null  int64  \n",
      " 18  account_type                  37438 non-null  object \n",
      "dtypes: bool(4), float64(2), int64(5), object(8)\n",
      "memory usage: 4.7+ MB\n"
     ]
    }
   ],
   "source": [
    "df.info()"
   ]
  },
  {
   "cell_type": "markdown",
   "id": "04d6035e",
   "metadata": {},
   "source": [
    "`followers_count` _=> Users following the specific user._\n",
    "\n",
    "`friends_count` _=> Every user the specific user is following._"
   ]
  },
  {
   "cell_type": "markdown",
   "id": "42e316ba",
   "metadata": {},
   "source": [
    "--------------------------------------------------------------------------------------------------------------------------------"
   ]
  },
  {
   "cell_type": "markdown",
   "id": "cba69704",
   "metadata": {},
   "source": [
    "**Columns that have unique values for each row are not going to be helpful to our model.**"
   ]
  },
  {
   "cell_type": "code",
   "execution_count": 5,
   "id": "1c7e3ee0",
   "metadata": {},
   "outputs": [
    {
     "data": {
      "text/plain": [
       "36967"
      ]
     },
     "execution_count": 5,
     "metadata": {},
     "output_type": "execute_result"
    }
   ],
   "source": [
    "df.id.nunique()"
   ]
  },
  {
   "cell_type": "code",
   "execution_count": 6,
   "id": "5ebd9906",
   "metadata": {},
   "outputs": [
    {
     "data": {
      "text/plain": [
       "37438"
      ]
     },
     "execution_count": 6,
     "metadata": {},
     "output_type": "execute_result"
    }
   ],
   "source": [
    "df.screen_name.nunique()"
   ]
  },
  {
   "cell_type": "code",
   "execution_count": 7,
   "id": "6fb91014",
   "metadata": {},
   "outputs": [
    {
     "data": {
      "text/plain": [
       "37042"
      ]
     },
     "execution_count": 7,
     "metadata": {},
     "output_type": "execute_result"
    }
   ],
   "source": [
    "df.created_at.nunique()"
   ]
  },
  {
   "cell_type": "markdown",
   "id": "be911ea1",
   "metadata": {},
   "source": [
    "**Drop these columns**"
   ]
  },
  {
   "cell_type": "code",
   "execution_count": 8,
   "id": "96a5b271",
   "metadata": {},
   "outputs": [],
   "source": [
    "df.drop(columns=['id', 'screen_name', 'created_at'], inplace=True)"
   ]
  },
  {
   "cell_type": "markdown",
   "id": "b3178775",
   "metadata": {},
   "source": [
    "**Replace Categorical variables with integers**"
   ]
  },
  {
   "cell_type": "code",
   "execution_count": 9,
   "id": "49fe9e06",
   "metadata": {},
   "outputs": [],
   "source": [
    "df['default_profile'].replace([True, False], [1, 0], inplace=True)"
   ]
  },
  {
   "cell_type": "code",
   "execution_count": 10,
   "id": "cc1ffa23",
   "metadata": {},
   "outputs": [],
   "source": [
    "df['default_profile_image'].replace([True, False], [1, 0], inplace=True)"
   ]
  },
  {
   "cell_type": "code",
   "execution_count": 11,
   "id": "4361b9d2",
   "metadata": {},
   "outputs": [],
   "source": [
    "df['geo_enabled'].replace([True, False], [1, 0], inplace=True)"
   ]
  },
  {
   "cell_type": "code",
   "execution_count": 12,
   "id": "5a0f0903",
   "metadata": {},
   "outputs": [],
   "source": [
    "# Accounts that have a description are replaced with 1 while accounts without description are replaced with 0\n",
    "df[\"description\"] = df[\"description\"].notnull().astype(\"int\")"
   ]
  },
  {
   "cell_type": "code",
   "execution_count": 13,
   "id": "a8bc3dff",
   "metadata": {},
   "outputs": [],
   "source": [
    "# Accounts that have a background image are replaced with 1 while accounts without an image are replaced with 0\n",
    "df[\"profile_background_image_url\"] = df[\"profile_background_image_url\"].notnull().astype(\"int\")"
   ]
  },
  {
   "cell_type": "code",
   "execution_count": 14,
   "id": "7d3a6a7b",
   "metadata": {},
   "outputs": [],
   "source": [
    "df['verified'].replace([True, False], [1, 0], inplace=True)"
   ]
  },
  {
   "cell_type": "markdown",
   "id": "6c9ea327",
   "metadata": {},
   "source": [
    "**Dropping columns**\n",
    "* `lang` **:** A specific language does not really determine if the account is a bot.\n",
    "* `location` **:** A real user might not set his location so it is difficult to tell.\n",
    "* `profile_image_url` **:** 99.9% of accounts have a profile image.\n",
    "* `account_age_days` **:** Same as `created_at`. This is not a determinant factor as to whether an account is a bot."
   ]
  },
  {
   "cell_type": "code",
   "execution_count": 15,
   "id": "9a89ac42",
   "metadata": {},
   "outputs": [],
   "source": [
    "df.drop(columns=['lang', 'location', 'profile_image_url', 'account_age_days'], inplace=True)"
   ]
  },
  {
   "cell_type": "code",
   "execution_count": 16,
   "id": "dad95d9d",
   "metadata": {},
   "outputs": [],
   "source": [
    "df['account_type'].replace(['human', 'bot'], [1, 0], inplace=True)"
   ]
  },
  {
   "cell_type": "code",
   "execution_count": 17,
   "id": "f69bc0a3",
   "metadata": {},
   "outputs": [
    {
     "data": {
      "text/html": [
       "<div>\n",
       "<style scoped>\n",
       "    .dataframe tbody tr th:only-of-type {\n",
       "        vertical-align: middle;\n",
       "    }\n",
       "\n",
       "    .dataframe tbody tr th {\n",
       "        vertical-align: top;\n",
       "    }\n",
       "\n",
       "    .dataframe thead th {\n",
       "        text-align: right;\n",
       "    }\n",
       "</style>\n",
       "<table border=\"1\" class=\"dataframe\">\n",
       "  <thead>\n",
       "    <tr style=\"text-align: right;\">\n",
       "      <th></th>\n",
       "      <th>default_profile</th>\n",
       "      <th>default_profile_image</th>\n",
       "      <th>description</th>\n",
       "      <th>favourites_count</th>\n",
       "      <th>followers_count</th>\n",
       "      <th>friends_count</th>\n",
       "      <th>geo_enabled</th>\n",
       "      <th>profile_background_image_url</th>\n",
       "      <th>statuses_count</th>\n",
       "      <th>verified</th>\n",
       "      <th>average_tweets_per_day</th>\n",
       "      <th>account_type</th>\n",
       "    </tr>\n",
       "  </thead>\n",
       "  <tbody>\n",
       "    <tr>\n",
       "      <th>0</th>\n",
       "      <td>0</td>\n",
       "      <td>0</td>\n",
       "      <td>1</td>\n",
       "      <td>4</td>\n",
       "      <td>1589</td>\n",
       "      <td>4</td>\n",
       "      <td>0</td>\n",
       "      <td>1</td>\n",
       "      <td>11041</td>\n",
       "      <td>0</td>\n",
       "      <td>7.870</td>\n",
       "      <td>0</td>\n",
       "    </tr>\n",
       "    <tr>\n",
       "      <th>1</th>\n",
       "      <td>0</td>\n",
       "      <td>0</td>\n",
       "      <td>1</td>\n",
       "      <td>536</td>\n",
       "      <td>860</td>\n",
       "      <td>880</td>\n",
       "      <td>0</td>\n",
       "      <td>1</td>\n",
       "      <td>252</td>\n",
       "      <td>0</td>\n",
       "      <td>0.183</td>\n",
       "      <td>1</td>\n",
       "    </tr>\n",
       "    <tr>\n",
       "      <th>2</th>\n",
       "      <td>0</td>\n",
       "      <td>0</td>\n",
       "      <td>1</td>\n",
       "      <td>3307</td>\n",
       "      <td>172</td>\n",
       "      <td>594</td>\n",
       "      <td>1</td>\n",
       "      <td>1</td>\n",
       "      <td>1001</td>\n",
       "      <td>0</td>\n",
       "      <td>0.864</td>\n",
       "      <td>1</td>\n",
       "    </tr>\n",
       "    <tr>\n",
       "      <th>3</th>\n",
       "      <td>1</td>\n",
       "      <td>0</td>\n",
       "      <td>1</td>\n",
       "      <td>8433</td>\n",
       "      <td>517</td>\n",
       "      <td>633</td>\n",
       "      <td>1</td>\n",
       "      <td>0</td>\n",
       "      <td>1324</td>\n",
       "      <td>0</td>\n",
       "      <td>0.889</td>\n",
       "      <td>1</td>\n",
       "    </tr>\n",
       "    <tr>\n",
       "      <th>4</th>\n",
       "      <td>0</td>\n",
       "      <td>0</td>\n",
       "      <td>1</td>\n",
       "      <td>88</td>\n",
       "      <td>753678</td>\n",
       "      <td>116</td>\n",
       "      <td>1</td>\n",
       "      <td>1</td>\n",
       "      <td>4202</td>\n",
       "      <td>1</td>\n",
       "      <td>1.339</td>\n",
       "      <td>1</td>\n",
       "    </tr>\n",
       "  </tbody>\n",
       "</table>\n",
       "</div>"
      ],
      "text/plain": [
       "   default_profile  default_profile_image  description  favourites_count  \\\n",
       "0                0                      0            1                 4   \n",
       "1                0                      0            1               536   \n",
       "2                0                      0            1              3307   \n",
       "3                1                      0            1              8433   \n",
       "4                0                      0            1                88   \n",
       "\n",
       "   followers_count  friends_count  geo_enabled  profile_background_image_url  \\\n",
       "0             1589              4            0                             1   \n",
       "1              860            880            0                             1   \n",
       "2              172            594            1                             1   \n",
       "3              517            633            1                             0   \n",
       "4           753678            116            1                             1   \n",
       "\n",
       "   statuses_count  verified  average_tweets_per_day  account_type  \n",
       "0           11041         0                   7.870             0  \n",
       "1             252         0                   0.183             1  \n",
       "2            1001         0                   0.864             1  \n",
       "3            1324         0                   0.889             1  \n",
       "4            4202         1                   1.339             1  "
      ]
     },
     "execution_count": 17,
     "metadata": {},
     "output_type": "execute_result"
    }
   ],
   "source": [
    "df.head()"
   ]
  },
  {
   "cell_type": "code",
   "execution_count": null,
   "id": "9cc744e8",
   "metadata": {},
   "outputs": [],
   "source": []
  },
  {
   "cell_type": "markdown",
   "id": "4106f87f",
   "metadata": {},
   "source": [
    "Next:\n",
    "* Scale columns down to between 0 and 1.\n",
    "* Test different models. Remember to separate between training and test set and to test different parameters.\n",
    "* KNN, Random Forest, Decision Trees, Naive Bayes\n",
    "* What is Bag of words?"
   ]
  },
  {
   "cell_type": "markdown",
   "id": "aa55f52c",
   "metadata": {},
   "source": [
    "## Machine Learning"
   ]
  },
  {
   "cell_type": "code",
   "execution_count": 18,
   "id": "ce197ea9",
   "metadata": {},
   "outputs": [],
   "source": [
    "from sklearn.model_selection import train_test_split \n",
    "from sklearn.neighbors import KNeighborsClassifier\n",
    "from sklearn.ensemble import RandomForestClassifier\n",
    "from sklearn.tree import DecisionTreeClassifier\n",
    "from sklearn.naive_bayes import GaussianNB\n",
    "from sklearn.metrics import accuracy_score\n",
    "from sklearn.model_selection import cross_val_score"
   ]
  },
  {
   "cell_type": "code",
   "execution_count": 19,
   "id": "bfdc3760",
   "metadata": {},
   "outputs": [],
   "source": [
    "# standardize the columns to be between 0 and 1\n",
    "df['favourites_count'] = (df['favourites_count'] - df['favourites_count'].min()) / (df['favourites_count'].max() - df['favourites_count'].min())\n",
    "df['followers_count'] = (df['followers_count'] - df['followers_count'].min()) / (df['followers_count'].max() - df['followers_count'].min())\n",
    "df['friends_count'] = (df['friends_count'] - df['friends_count'].min()) / (df['friends_count'].max() - df['friends_count'].min())\n",
    "df['statuses_count'] = (df['statuses_count'] - df['statuses_count'].min()) / (df['statuses_count'].max() - df['statuses_count'].min())\n",
    "df['average_tweets_per_day'] = (df['average_tweets_per_day'] - df['average_tweets_per_day'].min()) / (df['average_tweets_per_day'].max() - df['average_tweets_per_day'].min())"
   ]
  },
  {
   "cell_type": "code",
   "execution_count": 20,
   "id": "50d0e998",
   "metadata": {},
   "outputs": [
    {
     "data": {
      "text/html": [
       "<div>\n",
       "<style scoped>\n",
       "    .dataframe tbody tr th:only-of-type {\n",
       "        vertical-align: middle;\n",
       "    }\n",
       "\n",
       "    .dataframe tbody tr th {\n",
       "        vertical-align: top;\n",
       "    }\n",
       "\n",
       "    .dataframe thead th {\n",
       "        text-align: right;\n",
       "    }\n",
       "</style>\n",
       "<table border=\"1\" class=\"dataframe\">\n",
       "  <thead>\n",
       "    <tr style=\"text-align: right;\">\n",
       "      <th></th>\n",
       "      <th>default_profile</th>\n",
       "      <th>default_profile_image</th>\n",
       "      <th>description</th>\n",
       "      <th>favourites_count</th>\n",
       "      <th>followers_count</th>\n",
       "      <th>friends_count</th>\n",
       "      <th>geo_enabled</th>\n",
       "      <th>profile_background_image_url</th>\n",
       "      <th>statuses_count</th>\n",
       "      <th>verified</th>\n",
       "      <th>average_tweets_per_day</th>\n",
       "      <th>account_type</th>\n",
       "    </tr>\n",
       "  </thead>\n",
       "  <tbody>\n",
       "    <tr>\n",
       "      <th>0</th>\n",
       "      <td>0</td>\n",
       "      <td>0</td>\n",
       "      <td>1</td>\n",
       "      <td>0.000005</td>\n",
       "      <td>0.000013</td>\n",
       "      <td>9.210096e-07</td>\n",
       "      <td>0</td>\n",
       "      <td>1</td>\n",
       "      <td>0.003983</td>\n",
       "      <td>0</td>\n",
       "      <td>0.006201</td>\n",
       "      <td>0</td>\n",
       "    </tr>\n",
       "    <tr>\n",
       "      <th>1</th>\n",
       "      <td>0</td>\n",
       "      <td>0</td>\n",
       "      <td>1</td>\n",
       "      <td>0.000606</td>\n",
       "      <td>0.000007</td>\n",
       "      <td>2.026221e-04</td>\n",
       "      <td>0</td>\n",
       "      <td>1</td>\n",
       "      <td>0.000091</td>\n",
       "      <td>0</td>\n",
       "      <td>0.000144</td>\n",
       "      <td>1</td>\n",
       "    </tr>\n",
       "    <tr>\n",
       "      <th>2</th>\n",
       "      <td>0</td>\n",
       "      <td>0</td>\n",
       "      <td>1</td>\n",
       "      <td>0.003736</td>\n",
       "      <td>0.000001</td>\n",
       "      <td>1.367699e-04</td>\n",
       "      <td>1</td>\n",
       "      <td>1</td>\n",
       "      <td>0.000361</td>\n",
       "      <td>0</td>\n",
       "      <td>0.000681</td>\n",
       "      <td>1</td>\n",
       "    </tr>\n",
       "    <tr>\n",
       "      <th>3</th>\n",
       "      <td>1</td>\n",
       "      <td>0</td>\n",
       "      <td>1</td>\n",
       "      <td>0.009527</td>\n",
       "      <td>0.000004</td>\n",
       "      <td>1.457498e-04</td>\n",
       "      <td>1</td>\n",
       "      <td>0</td>\n",
       "      <td>0.000478</td>\n",
       "      <td>0</td>\n",
       "      <td>0.000701</td>\n",
       "      <td>1</td>\n",
       "    </tr>\n",
       "    <tr>\n",
       "      <th>4</th>\n",
       "      <td>0</td>\n",
       "      <td>0</td>\n",
       "      <td>1</td>\n",
       "      <td>0.000099</td>\n",
       "      <td>0.006196</td>\n",
       "      <td>2.670928e-05</td>\n",
       "      <td>1</td>\n",
       "      <td>1</td>\n",
       "      <td>0.001516</td>\n",
       "      <td>1</td>\n",
       "      <td>0.001055</td>\n",
       "      <td>1</td>\n",
       "    </tr>\n",
       "  </tbody>\n",
       "</table>\n",
       "</div>"
      ],
      "text/plain": [
       "   default_profile  default_profile_image  description  favourites_count  \\\n",
       "0                0                      0            1          0.000005   \n",
       "1                0                      0            1          0.000606   \n",
       "2                0                      0            1          0.003736   \n",
       "3                1                      0            1          0.009527   \n",
       "4                0                      0            1          0.000099   \n",
       "\n",
       "   followers_count  friends_count  geo_enabled  profile_background_image_url  \\\n",
       "0         0.000013   9.210096e-07            0                             1   \n",
       "1         0.000007   2.026221e-04            0                             1   \n",
       "2         0.000001   1.367699e-04            1                             1   \n",
       "3         0.000004   1.457498e-04            1                             0   \n",
       "4         0.006196   2.670928e-05            1                             1   \n",
       "\n",
       "   statuses_count  verified  average_tweets_per_day  account_type  \n",
       "0        0.003983         0                0.006201             0  \n",
       "1        0.000091         0                0.000144             1  \n",
       "2        0.000361         0                0.000681             1  \n",
       "3        0.000478         0                0.000701             1  \n",
       "4        0.001516         1                0.001055             1  "
      ]
     },
     "execution_count": 20,
     "metadata": {},
     "output_type": "execute_result"
    }
   ],
   "source": [
    "df.head()"
   ]
  },
  {
   "cell_type": "code",
   "execution_count": 21,
   "id": "7794e2fe",
   "metadata": {},
   "outputs": [],
   "source": [
    "X = df.drop('account_type', axis=1)\n",
    "y = df['account_type']"
   ]
  },
  {
   "cell_type": "markdown",
   "id": "b4f9d359",
   "metadata": {},
   "source": [
    "--------------------------------------------------------------------------------------------------------------------------------"
   ]
  },
  {
   "cell_type": "code",
   "execution_count": 22,
   "id": "a2dd7215",
   "metadata": {},
   "outputs": [],
   "source": [
    "# split data into training and test set\n",
    "X_train, X_test, y_train, y_test = train_test_split(X, y, test_size=0.3, random_state=42)"
   ]
  },
  {
   "cell_type": "markdown",
   "id": "d02de453",
   "metadata": {},
   "source": [
    "## K Nearest Neighbors"
   ]
  },
  {
   "cell_type": "code",
   "execution_count": 23,
   "id": "df4aac6d",
   "metadata": {},
   "outputs": [
    {
     "data": {
      "image/png": "[encoded data removed]",
      "text/plain": [
       "<Figure size 432x288 with 1 Axes>"
      ]
     },
     "metadata": {
      "needs_background": "light"
     },
     "output_type": "display_data"
    }
   ],
   "source": [
    "## Create helper function for plotting the training accuracy vs cross-validation accuracy plot with various k values\n",
    "\n",
    "def k_neighbors(start, end, X, y, X_train, X_test, y_train, y_test):\n",
    "    k_cross_val = []\n",
    "    test_acc = []\n",
    "    k_range = range(start, end+1)\n",
    "    for k in range(start, end+1):\n",
    "        knn = KNeighborsClassifier(n_neighbors=k)\n",
    "        knn.fit(X_train, y_train)\n",
    "        accuracy = accuracy_score(y_test, knn.predict(X_test))\n",
    "        scores = cross_val_score(knn, X, y, cv=5, scoring='accuracy')\n",
    "        k_cross_val.append(scores.mean())\n",
    "        test_acc.append(accuracy)\n",
    "        \n",
    "# plot graph to show best number of neighbors\n",
    "    plt.title('Mean CV and Test Accuracies vs k neighbors')\n",
    "    plt.plot(k_range, k_cross_val, label=\"CV Accuracy\")\n",
    "    plt.plot(k_range, test_acc, label=\"Test Accuracy\")\n",
    "    plt.legend()\n",
    "    plt.xlabel('Value of k for kNN')\n",
    "    plt.ylabel('Mean Accuracy')\n",
    "    plt.show()\n",
    "\n",
    "## Plot accuracies vs. k values\n",
    "k_neighbors(1, 10, X, y, X_train, X_test, y_train, y_test)"
   ]
  },
  {
   "cell_type": "markdown",
   "id": "cd93703e",
   "metadata": {},
   "source": [
    "The best number for k is 5 according to the plot displayed."
   ]
  },
  {
   "cell_type": "code",
   "execution_count": 26,
   "id": "af7c8d0c",
   "metadata": {},
   "outputs": [
    {
     "name": "stdout",
     "output_type": "stream",
     "text": [
      "KNN's accuracy is 0.8579059829059829\n"
     ]
    }
   ],
   "source": [
    "# create the model\n",
    "knn = KNeighborsClassifier(n_neighbors=5)\n",
    "\n",
    "# fit the model\n",
    "knn.fit(X_train, y_train)\n",
    "\n",
    "# predict using unseen data\n",
    "y_pred = knn.predict(X_test)\n",
    "\n",
    "# compare and calculate accuracy\n",
    "accuracy = accuracy_score(y_test, y_pred)\n",
    "\n",
    "print(f\"KNN's accuracy is {accuracy}\")"
   ]
  },
  {
   "cell_type": "markdown",
   "id": "7e7b17f6",
   "metadata": {},
   "source": [
    "## Random Forest"
   ]
  },
  {
   "cell_type": "code",
   "execution_count": 27,
   "id": "5c2b051d",
   "metadata": {},
   "outputs": [
    {
     "name": "stdout",
     "output_type": "stream",
     "text": [
      "Random Forest's accuracy is 0.8746438746438746\n"
     ]
    }
   ],
   "source": [
    "# create the model\n",
    "rf = RandomForestClassifier()\n",
    "\n",
    "# fit the model\n",
    "rf.fit(X_train, y_train)\n",
    "\n",
    "# predict using unseen data\n",
    "y_pred = rf.predict(X_test)\n",
    "\n",
    "# compare and calculate accuracy\n",
    "accuracy = accuracy_score(y_test, y_pred)\n",
    "\n",
    "print(f\"Random Forest's accuracy is {accuracy}\")"
   ]
  },
  {
   "cell_type": "code",
   "execution_count": 42,
   "id": "e339eda5",
   "metadata": {},
   "outputs": [
    {
     "data": {
      "image/png": "[encoded data removed]",
      "text/plain": [
       "<Figure size 1080x288 with 1 Axes>"
      ]
     },
     "metadata": {
      "needs_background": "light"
     },
     "output_type": "display_data"
    }
   ],
   "source": [
    "# plot feature importances using random forest method\n",
    "figure(figsize=(15, 4))\n",
    "\n",
    "# Plot the result.\n",
    "sns.barplot(x=X.columns, y=rf.feature_importances_, ci=None);\n",
    "\n",
    "# labels and title\n",
    "plt.xticks(rotation=90);\n",
    "plt.title('Feature importances in predicting account type');\n",
    "plt.ylabel('% Importance');\n",
    "plt.xlabel('Twitter Account features');"
   ]
  },
  {
   "cell_type": "markdown",
   "id": "26ecd22a",
   "metadata": {},
   "source": [
    "## Decision Trees"
   ]
  },
  {
   "cell_type": "code",
   "execution_count": 28,
   "id": "c27424c0",
   "metadata": {},
   "outputs": [
    {
     "name": "stdout",
     "output_type": "stream",
     "text": [
      "Decision Tree's accuracy is 0.8196225071225072\n"
     ]
    }
   ],
   "source": [
    "# create the model\n",
    "dt = DecisionTreeClassifier()\n",
    "\n",
    "# fit the model\n",
    "dt.fit(X_train, y_train)\n",
    "\n",
    "# predict using unseen data\n",
    "y_pred = dt.predict(X_test)\n",
    "\n",
    "# compare and calculate accuracy\n",
    "accuracy = accuracy_score(y_test, y_pred)\n",
    "\n",
    "print(f\"Decision Tree's accuracy is {accuracy}\")"
   ]
  },
  {
   "cell_type": "markdown",
   "id": "af4b7ff8",
   "metadata": {},
   "source": [
    "## Naive Bayes"
   ]
  },
  {
   "cell_type": "code",
   "execution_count": 34,
   "id": "6306fe06",
   "metadata": {},
   "outputs": [
    {
     "name": "stdout",
     "output_type": "stream",
     "text": [
      "Naive Bayes' accuracy is 0.739761396011396\n",
      "Number of correctly labeled points out of a total 11232 points : 8309\n"
     ]
    }
   ],
   "source": [
    "# create the model\n",
    "gnb = GaussianNB()\n",
    "\n",
    "# fit the model\n",
    "gnb.fit(X_train, y_train)\n",
    "\n",
    "# predict using unseen data\n",
    "y_pred = gnb.predict(X_test)\n",
    "\n",
    "# compare and calculate accuracy\n",
    "accuracy = accuracy_score(y_test, y_pred)\n",
    "\n",
    "print(f\"Naive Bayes' accuracy is {accuracy}\")\n",
    "# print(f\"Number of correctly labeled points out of a total {X_test.shape[0]} points : {(y_test == y_pred).sum()}\")"
   ]
  },
  {
   "cell_type": "code",
   "execution_count": null,
   "id": "9ede6b74",
   "metadata": {},
   "outputs": [],
   "source": []
  },
  {
   "cell_type": "code",
   "execution_count": null,
   "id": "a77d3395",
   "metadata": {},
   "outputs": [],
   "source": []
  }
 ],
 "metadata": {
  "kernelspec": {
   "display_name": "Python 3",
   "language": "python",
   "name": "python3"
  },
  "language_info": {
   "codemirror_mode": {
    "name": "ipython",
    "version": 3
   },
   "file_extension": ".py",
   "mimetype": "text/x-python",
   "name": "python",
   "nbconvert_exporter": "python",
   "pygments_lexer": "ipython3",
   "version": "3.8.8"
  }
 },
 "nbformat": 4,
 "nbformat_minor": 5
}
