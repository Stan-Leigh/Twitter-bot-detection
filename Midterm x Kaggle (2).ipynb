{
 "cells": [
  {
   "cell_type": "code",
   "execution_count": 1,
   "id": "87676e0d",
   "metadata": {},
   "outputs": [],
   "source": [
    "import pandas as pd\n",
    "import numpy as np\n",
    "import matplotlib.pyplot as plt\n",
    "import seaborn as sns\n",
    "from matplotlib.pyplot import figure\n",
    "%matplotlib inline"
   ]
  },
  {
   "cell_type": "code",
   "execution_count": 2,
   "id": "629eae6e",
   "metadata": {},
   "outputs": [],
   "source": [
    "midterm = pd.read_csv('midterm.csv')\n",
    "kaggle = pd.read_csv('twitter_human_bots_dataset.csv', index_col=0)"
   ]
  },
  {
   "cell_type": "code",
   "execution_count": 3,
   "id": "90d95911",
   "metadata": {},
   "outputs": [
    {
     "data": {
      "text/html": [
       "<div>\n",
       "<style scoped>\n",
       "    .dataframe tbody tr th:only-of-type {\n",
       "        vertical-align: middle;\n",
       "    }\n",
       "\n",
       "    .dataframe tbody tr th {\n",
       "        vertical-align: top;\n",
       "    }\n",
       "\n",
       "    .dataframe thead th {\n",
       "        text-align: right;\n",
       "    }\n",
       "</style>\n",
       "<table border=\"1\" class=\"dataframe\">\n",
       "  <thead>\n",
       "    <tr style=\"text-align: right;\">\n",
       "      <th></th>\n",
       "      <th>probe_timestamp</th>\n",
       "      <th>user_id</th>\n",
       "      <th>screen_name</th>\n",
       "      <th>name</th>\n",
       "      <th>description</th>\n",
       "      <th>user_created_at</th>\n",
       "      <th>url</th>\n",
       "      <th>lang</th>\n",
       "      <th>protected</th>\n",
       "      <th>verified</th>\n",
       "      <th>...</th>\n",
       "      <th>profile_use_background_image</th>\n",
       "      <th>default_profile</th>\n",
       "      <th>followers_count</th>\n",
       "      <th>friends_count</th>\n",
       "      <th>listed_count</th>\n",
       "      <th>favourites_count</th>\n",
       "      <th>statuses_count</th>\n",
       "      <th>tid</th>\n",
       "      <th>tweet_ids</th>\n",
       "      <th>account_type</th>\n",
       "    </tr>\n",
       "  </thead>\n",
       "  <tbody>\n",
       "    <tr>\n",
       "      <th>0</th>\n",
       "      <td>Tue Nov 06 20:35:08 2018</td>\n",
       "      <td>4107317134</td>\n",
       "      <td>danitheduck21</td>\n",
       "      <td>Dani🏳️‍🌈</td>\n",
       "      <td>Dani 💜 She/Her 💜 Randomness all over. Expect l...</td>\n",
       "      <td>2015-11-03 21:16:13</td>\n",
       "      <td>NaN</td>\n",
       "      <td>en</td>\n",
       "      <td>0.0</td>\n",
       "      <td>False</td>\n",
       "      <td>...</td>\n",
       "      <td>False</td>\n",
       "      <td>False</td>\n",
       "      <td>481</td>\n",
       "      <td>870</td>\n",
       "      <td>26</td>\n",
       "      <td>6542</td>\n",
       "      <td>67025</td>\n",
       "      <td>1059907055421509632</td>\n",
       "      <td>4107317134</td>\n",
       "      <td>human</td>\n",
       "    </tr>\n",
       "    <tr>\n",
       "      <th>1</th>\n",
       "      <td>Tue Nov 06 17:57:51 2018</td>\n",
       "      <td>4858296837</td>\n",
       "      <td>ncaraballoPR</td>\n",
       "      <td>Natalie Caraballo</td>\n",
       "      <td>Things I don’t get tired of: Politics, Amy Win...</td>\n",
       "      <td>2016-01-28 20:03:51</td>\n",
       "      <td>NaN</td>\n",
       "      <td>en</td>\n",
       "      <td>0.0</td>\n",
       "      <td>False</td>\n",
       "      <td>...</td>\n",
       "      <td>False</td>\n",
       "      <td>False</td>\n",
       "      <td>202</td>\n",
       "      <td>712</td>\n",
       "      <td>5</td>\n",
       "      <td>1515</td>\n",
       "      <td>158</td>\n",
       "      <td>1059867472810180609</td>\n",
       "      <td>4858296837</td>\n",
       "      <td>human</td>\n",
       "    </tr>\n",
       "  </tbody>\n",
       "</table>\n",
       "<p>2 rows × 21 columns</p>\n",
       "</div>"
      ],
      "text/plain": [
       "            probe_timestamp     user_id    screen_name               name  \\\n",
       "0  Tue Nov 06 20:35:08 2018  4107317134  danitheduck21           Dani🏳️‍🌈   \n",
       "1  Tue Nov 06 17:57:51 2018  4858296837   ncaraballoPR  Natalie Caraballo   \n",
       "\n",
       "                                         description      user_created_at  \\\n",
       "0  Dani 💜 She/Her 💜 Randomness all over. Expect l...  2015-11-03 21:16:13   \n",
       "1  Things I don’t get tired of: Politics, Amy Win...  2016-01-28 20:03:51   \n",
       "\n",
       "   url lang  protected  verified  ...  profile_use_background_image  \\\n",
       "0  NaN   en        0.0     False  ...                         False   \n",
       "1  NaN   en        0.0     False  ...                         False   \n",
       "\n",
       "   default_profile  followers_count  friends_count  listed_count  \\\n",
       "0            False              481            870            26   \n",
       "1            False              202            712             5   \n",
       "\n",
       "   favourites_count  statuses_count                  tid   tweet_ids  \\\n",
       "0              6542           67025  1059907055421509632  4107317134   \n",
       "1              1515             158  1059867472810180609  4858296837   \n",
       "\n",
       "   account_type  \n",
       "0         human  \n",
       "1         human  \n",
       "\n",
       "[2 rows x 21 columns]"
      ]
     },
     "execution_count": 3,
     "metadata": {},
     "output_type": "execute_result"
    }
   ],
   "source": [
    "midterm.head(2)"
   ]
  },
  {
   "cell_type": "code",
   "execution_count": 4,
   "id": "3b485c0b",
   "metadata": {},
   "outputs": [
    {
     "data": {
      "text/html": [
       "<div>\n",
       "<style scoped>\n",
       "    .dataframe tbody tr th:only-of-type {\n",
       "        vertical-align: middle;\n",
       "    }\n",
       "\n",
       "    .dataframe tbody tr th {\n",
       "        vertical-align: top;\n",
       "    }\n",
       "\n",
       "    .dataframe thead th {\n",
       "        text-align: right;\n",
       "    }\n",
       "</style>\n",
       "<table border=\"1\" class=\"dataframe\">\n",
       "  <thead>\n",
       "    <tr style=\"text-align: right;\">\n",
       "      <th></th>\n",
       "      <th>created_at</th>\n",
       "      <th>default_profile</th>\n",
       "      <th>default_profile_image</th>\n",
       "      <th>description</th>\n",
       "      <th>favourites_count</th>\n",
       "      <th>followers_count</th>\n",
       "      <th>friends_count</th>\n",
       "      <th>geo_enabled</th>\n",
       "      <th>id</th>\n",
       "      <th>lang</th>\n",
       "      <th>location</th>\n",
       "      <th>profile_background_image_url</th>\n",
       "      <th>profile_image_url</th>\n",
       "      <th>screen_name</th>\n",
       "      <th>statuses_count</th>\n",
       "      <th>verified</th>\n",
       "      <th>average_tweets_per_day</th>\n",
       "      <th>account_age_days</th>\n",
       "      <th>account_type</th>\n",
       "    </tr>\n",
       "  </thead>\n",
       "  <tbody>\n",
       "    <tr>\n",
       "      <th>0</th>\n",
       "      <td>15/10/2016 21:32</td>\n",
       "      <td>False</td>\n",
       "      <td>False</td>\n",
       "      <td>Blame @xaiax, Inspired by @MakingInvisible, us...</td>\n",
       "      <td>4</td>\n",
       "      <td>1589</td>\n",
       "      <td>4</td>\n",
       "      <td>False</td>\n",
       "      <td>7.874060e+17</td>\n",
       "      <td>en</td>\n",
       "      <td>unknown</td>\n",
       "      <td>http://abs.twimg.com/images/themes/theme1/bg.png</td>\n",
       "      <td>http://pbs.twimg.com/profile_images/7874121826...</td>\n",
       "      <td>best_in_dumbest</td>\n",
       "      <td>11041</td>\n",
       "      <td>False</td>\n",
       "      <td>7.870</td>\n",
       "      <td>1403</td>\n",
       "      <td>bot</td>\n",
       "    </tr>\n",
       "    <tr>\n",
       "      <th>1</th>\n",
       "      <td>09/11/2016 5:01</td>\n",
       "      <td>False</td>\n",
       "      <td>False</td>\n",
       "      <td>Photographing the American West since 1980. I ...</td>\n",
       "      <td>536</td>\n",
       "      <td>860</td>\n",
       "      <td>880</td>\n",
       "      <td>False</td>\n",
       "      <td>7.962160e+17</td>\n",
       "      <td>en</td>\n",
       "      <td>Estados Unidos</td>\n",
       "      <td>http://abs.twimg.com/images/themes/theme1/bg.png</td>\n",
       "      <td>http://pbs.twimg.com/profile_images/8023296328...</td>\n",
       "      <td>CJRubinPhoto</td>\n",
       "      <td>252</td>\n",
       "      <td>False</td>\n",
       "      <td>0.183</td>\n",
       "      <td>1379</td>\n",
       "      <td>human</td>\n",
       "    </tr>\n",
       "  </tbody>\n",
       "</table>\n",
       "</div>"
      ],
      "text/plain": [
       "         created_at  default_profile  default_profile_image  \\\n",
       "0  15/10/2016 21:32            False                  False   \n",
       "1   09/11/2016 5:01            False                  False   \n",
       "\n",
       "                                         description  favourites_count  \\\n",
       "0  Blame @xaiax, Inspired by @MakingInvisible, us...                 4   \n",
       "1  Photographing the American West since 1980. I ...               536   \n",
       "\n",
       "   followers_count  friends_count  geo_enabled            id lang  \\\n",
       "0             1589              4        False  7.874060e+17   en   \n",
       "1              860            880        False  7.962160e+17   en   \n",
       "\n",
       "         location                      profile_background_image_url  \\\n",
       "0         unknown  http://abs.twimg.com/images/themes/theme1/bg.png   \n",
       "1  Estados Unidos  http://abs.twimg.com/images/themes/theme1/bg.png   \n",
       "\n",
       "                                   profile_image_url      screen_name  \\\n",
       "0  http://pbs.twimg.com/profile_images/7874121826...  best_in_dumbest   \n",
       "1  http://pbs.twimg.com/profile_images/8023296328...     CJRubinPhoto   \n",
       "\n",
       "   statuses_count  verified  average_tweets_per_day  account_age_days  \\\n",
       "0           11041     False                   7.870              1403   \n",
       "1             252     False                   0.183              1379   \n",
       "\n",
       "  account_type  \n",
       "0          bot  \n",
       "1        human  "
      ]
     },
     "execution_count": 4,
     "metadata": {},
     "output_type": "execute_result"
    }
   ],
   "source": [
    "kaggle.head(2)"
   ]
  },
  {
   "cell_type": "code",
   "execution_count": 5,
   "id": "845c41f0",
   "metadata": {},
   "outputs": [],
   "source": [
    "midterm['probe_timestamp'] = pd.to_datetime(midterm['probe_timestamp'])\n",
    "midterm['user_created_at'] = pd.to_datetime(midterm['user_created_at'])\n",
    "kaggle['created_at'] = pd.to_datetime(kaggle['created_at'])"
   ]
  },
  {
   "cell_type": "code",
   "execution_count": 6,
   "id": "aa628240",
   "metadata": {},
   "outputs": [],
   "source": [
    "midterm['account_age_days'] = (midterm['probe_timestamp'] - midterm['user_created_at']).dt.days"
   ]
  },
  {
   "cell_type": "code",
   "execution_count": 7,
   "id": "a44088b4",
   "metadata": {},
   "outputs": [],
   "source": [
    "# drop unrelated columns\n",
    "midterm.drop(columns=['probe_timestamp', 'name', 'url', 'protected', 'listed_count', 'tid', 'tweet_ids'], inplace=True)"
   ]
  },
  {
   "cell_type": "code",
   "execution_count": 8,
   "id": "a5e4b716",
   "metadata": {},
   "outputs": [],
   "source": [
    "# drop columns not used in building the model\n",
    "midterm.drop(columns=['user_id', 'screen_name', 'lang'], inplace=True)\n",
    "kaggle.drop(columns=['default_profile_image', 'id', 'lang', 'location', 'profile_image_url', 'screen_name'], inplace=True)"
   ]
  },
  {
   "cell_type": "code",
   "execution_count": 9,
   "id": "a23e1be3",
   "metadata": {},
   "outputs": [],
   "source": [
    "kaggle.drop('average_tweets_per_day', axis=1, inplace=True)"
   ]
  },
  {
   "cell_type": "code",
   "execution_count": 10,
   "id": "9bc9868c",
   "metadata": {},
   "outputs": [],
   "source": [
    "# rename columns for both datasets so they have matching columns\n",
    "midterm.rename(columns={'user_created_at': 'created_at', 'profile_use_background_image': 'profile_background_image_url'}, inplace=True)"
   ]
  },
  {
   "cell_type": "code",
   "execution_count": 11,
   "id": "bc8ed2d2",
   "metadata": {},
   "outputs": [],
   "source": [
    "# Refactor profile_background_image_url before .concat to prevent problems I haven't seen yet\n",
    "kaggle[\"profile_background_image_url\"] = kaggle[\"profile_background_image_url\"].notnull().astype(\"int\")\n",
    "midterm['profile_background_image_url'].replace([True, False], [1, 0], inplace=True)"
   ]
  },
  {
   "cell_type": "markdown",
   "id": "98f3f5c2",
   "metadata": {},
   "source": [
    "**Join the two tables together!!!**"
   ]
  },
  {
   "cell_type": "code",
   "execution_count": 12,
   "id": "2a04a02d",
   "metadata": {},
   "outputs": [],
   "source": [
    "df = pd.concat([kaggle, midterm])"
   ]
  },
  {
   "cell_type": "code",
   "execution_count": 13,
   "id": "1950a1cd",
   "metadata": {},
   "outputs": [],
   "source": [
    "df['created_at_day'] = df.created_at.dt.day\n",
    "df['created_at_month'] = df.created_at.dt.month\n",
    "df['created_at_year'] = df.created_at.dt.year"
   ]
  },
  {
   "cell_type": "code",
   "execution_count": 14,
   "id": "d66a1f30",
   "metadata": {},
   "outputs": [],
   "source": [
    "# drop created_at column\n",
    "df.drop('created_at', axis=1, inplace=True)"
   ]
  },
  {
   "cell_type": "markdown",
   "id": "526a5d5a",
   "metadata": {},
   "source": [
    "**Make columns Machine Learning ready**"
   ]
  },
  {
   "cell_type": "code",
   "execution_count": 15,
   "id": "41fdcaf2",
   "metadata": {},
   "outputs": [],
   "source": [
    "df['default_profile'].replace([True, False], [1, 0], inplace=True)\n",
    "df[\"description\"] = df[\"description\"].notnull().astype(\"int\")\n",
    "df['geo_enabled'].replace([True, False], [1, 0], inplace=True)\n",
    "df['verified'].replace([True, False], [1, 0], inplace=True)"
   ]
  },
  {
   "cell_type": "code",
   "execution_count": 16,
   "id": "daf54fef",
   "metadata": {},
   "outputs": [],
   "source": [
    "df['account_type'].replace(['human', 'bot'], [1, 0], inplace=True)"
   ]
  },
  {
   "cell_type": "markdown",
   "id": "54ea0bbb",
   "metadata": {},
   "source": [
    "Cant forget to drop duplicates."
   ]
  },
  {
   "cell_type": "code",
   "execution_count": 17,
   "id": "a2904676",
   "metadata": {},
   "outputs": [],
   "source": [
    "df = df.drop_duplicates()"
   ]
  },
  {
   "cell_type": "markdown",
   "id": "c2de0a2a",
   "metadata": {},
   "source": [
    "## Machine Learning"
   ]
  },
  {
   "cell_type": "code",
   "execution_count": 18,
   "id": "668ce474",
   "metadata": {},
   "outputs": [],
   "source": [
    "from sklearn.model_selection import train_test_split # splitting the data\n",
    "from sklearn.preprocessing import StandardScaler # normalizing the data\n",
    "from sklearn.preprocessing import MinMaxScaler # normalizing the data\n",
    "from sklearn.model_selection import KFold # use for cross validation\n",
    "from sklearn.model_selection import GridSearchCV # tuning model parameters\n",
    "from sklearn.neighbors import KNeighborsClassifier # KNN\n",
    "from sklearn.ensemble import RandomForestClassifier # Random Forest\n",
    "from sklearn.tree import DecisionTreeClassifier # Decision trees\n",
    "from sklearn.naive_bayes import GaussianNB # Naive Bayes\n",
    "from sklearn.metrics import accuracy_score, confusion_matrix, classification_report # Accuracy metrics"
   ]
  },
  {
   "cell_type": "code",
   "execution_count": 19,
   "id": "c2d6cde1",
   "metadata": {},
   "outputs": [
    {
     "data": {
      "text/html": [
       "<div>\n",
       "<style scoped>\n",
       "    .dataframe tbody tr th:only-of-type {\n",
       "        vertical-align: middle;\n",
       "    }\n",
       "\n",
       "    .dataframe tbody tr th {\n",
       "        vertical-align: top;\n",
       "    }\n",
       "\n",
       "    .dataframe thead th {\n",
       "        text-align: right;\n",
       "    }\n",
       "</style>\n",
       "<table border=\"1\" class=\"dataframe\">\n",
       "  <thead>\n",
       "    <tr style=\"text-align: right;\">\n",
       "      <th></th>\n",
       "      <th>default_profile</th>\n",
       "      <th>description</th>\n",
       "      <th>favourites_count</th>\n",
       "      <th>followers_count</th>\n",
       "      <th>friends_count</th>\n",
       "      <th>geo_enabled</th>\n",
       "      <th>profile_background_image_url</th>\n",
       "      <th>statuses_count</th>\n",
       "      <th>verified</th>\n",
       "      <th>account_age_days</th>\n",
       "      <th>account_type</th>\n",
       "      <th>created_at_day</th>\n",
       "      <th>created_at_month</th>\n",
       "      <th>created_at_year</th>\n",
       "    </tr>\n",
       "  </thead>\n",
       "  <tbody>\n",
       "    <tr>\n",
       "      <th>19831</th>\n",
       "      <td>1</td>\n",
       "      <td>1</td>\n",
       "      <td>286</td>\n",
       "      <td>23</td>\n",
       "      <td>14</td>\n",
       "      <td>0</td>\n",
       "      <td>1</td>\n",
       "      <td>357</td>\n",
       "      <td>0</td>\n",
       "      <td>2</td>\n",
       "      <td>0</td>\n",
       "      <td>13</td>\n",
       "      <td>10</td>\n",
       "      <td>2018</td>\n",
       "    </tr>\n",
       "    <tr>\n",
       "      <th>23282</th>\n",
       "      <td>0</td>\n",
       "      <td>1</td>\n",
       "      <td>133</td>\n",
       "      <td>822</td>\n",
       "      <td>46</td>\n",
       "      <td>0</td>\n",
       "      <td>1</td>\n",
       "      <td>4286</td>\n",
       "      <td>0</td>\n",
       "      <td>1995</td>\n",
       "      <td>1</td>\n",
       "      <td>3</td>\n",
       "      <td>3</td>\n",
       "      <td>2015</td>\n",
       "    </tr>\n",
       "    <tr>\n",
       "      <th>45929</th>\n",
       "      <td>1</td>\n",
       "      <td>1</td>\n",
       "      <td>11</td>\n",
       "      <td>3</td>\n",
       "      <td>67</td>\n",
       "      <td>0</td>\n",
       "      <td>1</td>\n",
       "      <td>19</td>\n",
       "      <td>0</td>\n",
       "      <td>0</td>\n",
       "      <td>0</td>\n",
       "      <td>15</td>\n",
       "      <td>11</td>\n",
       "      <td>2018</td>\n",
       "    </tr>\n",
       "    <tr>\n",
       "      <th>46400</th>\n",
       "      <td>1</td>\n",
       "      <td>1</td>\n",
       "      <td>0</td>\n",
       "      <td>0</td>\n",
       "      <td>16</td>\n",
       "      <td>0</td>\n",
       "      <td>1</td>\n",
       "      <td>1</td>\n",
       "      <td>0</td>\n",
       "      <td>0</td>\n",
       "      <td>0</td>\n",
       "      <td>18</td>\n",
       "      <td>11</td>\n",
       "      <td>2018</td>\n",
       "    </tr>\n",
       "    <tr>\n",
       "      <th>28094</th>\n",
       "      <td>0</td>\n",
       "      <td>1</td>\n",
       "      <td>360</td>\n",
       "      <td>36</td>\n",
       "      <td>109</td>\n",
       "      <td>1</td>\n",
       "      <td>1</td>\n",
       "      <td>263</td>\n",
       "      <td>0</td>\n",
       "      <td>4162</td>\n",
       "      <td>1</td>\n",
       "      <td>28</td>\n",
       "      <td>3</td>\n",
       "      <td>2009</td>\n",
       "    </tr>\n",
       "  </tbody>\n",
       "</table>\n",
       "</div>"
      ],
      "text/plain": [
       "       default_profile  description  favourites_count  followers_count  \\\n",
       "19831                1            1               286               23   \n",
       "23282                0            1               133              822   \n",
       "45929                1            1                11                3   \n",
       "46400                1            1                 0                0   \n",
       "28094                0            1               360               36   \n",
       "\n",
       "       friends_count  geo_enabled  profile_background_image_url  \\\n",
       "19831             14            0                             1   \n",
       "23282             46            0                             1   \n",
       "45929             67            0                             1   \n",
       "46400             16            0                             1   \n",
       "28094            109            1                             1   \n",
       "\n",
       "       statuses_count  verified  account_age_days  account_type  \\\n",
       "19831             357         0                 2             0   \n",
       "23282            4286         0              1995             1   \n",
       "45929              19         0                 0             0   \n",
       "46400               1         0                 0             0   \n",
       "28094             263         0              4162             1   \n",
       "\n",
       "       created_at_day  created_at_month  created_at_year  \n",
       "19831              13                10             2018  \n",
       "23282               3                 3             2015  \n",
       "45929              15                11             2018  \n",
       "46400              18                11             2018  \n",
       "28094              28                 3             2009  "
      ]
     },
     "execution_count": 19,
     "metadata": {},
     "output_type": "execute_result"
    }
   ],
   "source": [
    "df.sample(5)"
   ]
  },
  {
   "cell_type": "code",
   "execution_count": 20,
   "id": "f6a33d48",
   "metadata": {},
   "outputs": [],
   "source": [
    "X = df.drop('account_type', axis=1)\n",
    "y = df['account_type']"
   ]
  },
  {
   "cell_type": "code",
   "execution_count": 21,
   "id": "bce740bd",
   "metadata": {},
   "outputs": [],
   "source": [
    "# split data into training and test set\n",
    "X_train, X_test, y_train, y_test = train_test_split(X, y, test_size=0.2, random_state=42)"
   ]
  },
  {
   "cell_type": "code",
   "execution_count": 22,
   "id": "a922478e",
   "metadata": {},
   "outputs": [
    {
     "name": "stderr",
     "output_type": "stream",
     "text": [
      "<ipython-input-22-8806f3e2a1e2>:4: SettingWithCopyWarning: \n",
      "A value is trying to be set on a copy of a slice from a DataFrame.\n",
      "Try using .loc[row_indexer,col_indexer] = value instead\n",
      "\n",
      "See the caveats in the documentation: https://pandas.pydata.org/pandas-docs/stable/user_guide/indexing.html#returning-a-view-versus-a-copy\n",
      "  X_train[col_to_scale] = sc.fit_transform(X_train[col_to_scale])\n",
      "C:\\Users\\ugonn\\anaconda3\\lib\\site-packages\\pandas\\core\\indexing.py:1738: SettingWithCopyWarning: \n",
      "A value is trying to be set on a copy of a slice from a DataFrame.\n",
      "Try using .loc[row_indexer,col_indexer] = value instead\n",
      "\n",
      "See the caveats in the documentation: https://pandas.pydata.org/pandas-docs/stable/user_guide/indexing.html#returning-a-view-versus-a-copy\n",
      "  self._setitem_single_column(loc, value[:, i].tolist(), pi)\n",
      "<ipython-input-22-8806f3e2a1e2>:5: SettingWithCopyWarning: \n",
      "A value is trying to be set on a copy of a slice from a DataFrame.\n",
      "Try using .loc[row_indexer,col_indexer] = value instead\n",
      "\n",
      "See the caveats in the documentation: https://pandas.pydata.org/pandas-docs/stable/user_guide/indexing.html#returning-a-view-versus-a-copy\n",
      "  X_test[col_to_scale] = sc.transform(X_test[col_to_scale])\n",
      "C:\\Users\\ugonn\\anaconda3\\lib\\site-packages\\pandas\\core\\indexing.py:1738: SettingWithCopyWarning: \n",
      "A value is trying to be set on a copy of a slice from a DataFrame.\n",
      "Try using .loc[row_indexer,col_indexer] = value instead\n",
      "\n",
      "See the caveats in the documentation: https://pandas.pydata.org/pandas-docs/stable/user_guide/indexing.html#returning-a-view-versus-a-copy\n",
      "  self._setitem_single_column(loc, value[:, i].tolist(), pi)\n"
     ]
    }
   ],
   "source": [
    "sc = MinMaxScaler()\n",
    "col_to_scale = ['followers_count', 'friends_count', 'favourites_count', 'statuses_count', 'account_age_days',\n",
    "                'created_at_day', 'created_at_month', 'created_at_year']\n",
    "X_train[col_to_scale] = sc.fit_transform(X_train[col_to_scale])\n",
    "X_test[col_to_scale] = sc.transform(X_test[col_to_scale])"
   ]
  },
  {
   "cell_type": "code",
   "execution_count": null,
   "id": "d2aa4e3b",
   "metadata": {},
   "outputs": [],
   "source": []
  },
  {
   "cell_type": "markdown",
   "id": "d02de453",
   "metadata": {},
   "source": [
    "## K Nearest Neighbors"
   ]
  },
  {
   "cell_type": "code",
   "execution_count": 23,
   "id": "fa3689b1",
   "metadata": {},
   "outputs": [
    {
     "name": "stdout",
     "output_type": "stream",
     "text": [
      "Test Result:\n",
      "================================================\n",
      "Accuracy Score: 86.26%\n",
      "_______________________________________________\n",
      "CLASSIFICATION REPORT:\n",
      "                     0            1  accuracy     macro avg  weighted avg\n",
      "precision     0.885280     0.833608  0.862625      0.859444      0.863066\n",
      "recall        0.872037     0.850145  0.862625      0.861091      0.862625\n",
      "f1-score      0.878609     0.841795  0.862625      0.860202      0.862782\n",
      "support    8690.000000  6553.000000  0.862625  15243.000000  15243.000000\n",
      "_______________________________________________\n",
      "Confusion Matrix: \n",
      " [[7578 1112]\n",
      " [ 982 5571]]\n",
      "\n",
      "KNN's accuracy is 0.8626254674276718\n"
     ]
    }
   ],
   "source": [
    "# create the model\n",
    "knn = KNeighborsClassifier(n_neighbors=5)\n",
    "\n",
    "# fit the model\n",
    "knn.fit(X_train, y_train)\n",
    "\n",
    "# predict using unseen data\n",
    "y_pred = knn.predict(X_test)\n",
    "\n",
    "clf_report = pd.DataFrame(classification_report(y_test, y_pred, output_dict=True))\n",
    "print(\"Test Result:\\n================================================\")        \n",
    "print(f\"Accuracy Score: {accuracy_score(y_test, y_pred) * 100:.2f}%\")\n",
    "print(\"_______________________________________________\")\n",
    "print(f\"CLASSIFICATION REPORT:\\n{clf_report}\")\n",
    "print(\"_______________________________________________\")\n",
    "print(f\"Confusion Matrix: \\n {confusion_matrix(y_test, y_pred)}\\n\")\n",
    "\n",
    "# compare and calculate accuracy\n",
    "accuracy = accuracy_score(y_test, y_pred)\n",
    "\n",
    "print(f\"KNN's accuracy is {accuracy}\")"
   ]
  },
  {
   "cell_type": "markdown",
   "id": "9632b336",
   "metadata": {},
   "source": [
    "**Explaining Confusion Matrix**\n",
    "* 0,0 - True Negative\n",
    "* 0,1 - False Positive\n",
    "* 1,0 - False Negative\n",
    "* 1,1 - True Positive"
   ]
  },
  {
   "cell_type": "markdown",
   "id": "7e7b17f6",
   "metadata": {},
   "source": [
    "## Random Forest"
   ]
  },
  {
   "cell_type": "code",
   "execution_count": 24,
   "id": "8e9173ef",
   "metadata": {},
   "outputs": [
    {
     "name": "stdout",
     "output_type": "stream",
     "text": [
      "Test Result:\n",
      "================================================\n",
      "Accuracy Score: 93.21%\n",
      "_______________________________________________\n",
      "CLASSIFICATION REPORT:\n",
      "                     0            1  accuracy     macro avg  weighted avg\n",
      "precision     0.963322     0.895159    0.9321      0.929240      0.934018\n",
      "recall        0.915765     0.953762    0.9321      0.934763      0.932100\n",
      "f1-score      0.938942     0.923532    0.9321      0.931237      0.932317\n",
      "support    8690.000000  6553.000000    0.9321  15243.000000  15243.000000\n",
      "_______________________________________________\n",
      "Confusion Matrix: \n",
      " [[7958  732]\n",
      " [ 303 6250]]\n",
      "\n",
      "Random Forest's accuracy is 0.9320999803188349\n"
     ]
    }
   ],
   "source": [
    "# create the model\n",
    "rf = RandomForestClassifier()\n",
    "\n",
    "# fit the model\n",
    "rf.fit(X_train, y_train)\n",
    "\n",
    "# predict using unseen data\n",
    "y_pred = rf.predict(X_test)\n",
    "\n",
    "clf_report = pd.DataFrame(classification_report(y_test, y_pred, output_dict=True))\n",
    "print(\"Test Result:\\n================================================\")        \n",
    "print(f\"Accuracy Score: {accuracy_score(y_test, y_pred) * 100:.2f}%\")\n",
    "print(\"_______________________________________________\")\n",
    "print(f\"CLASSIFICATION REPORT:\\n{clf_report}\")\n",
    "print(\"_______________________________________________\")\n",
    "print(f\"Confusion Matrix: \\n {confusion_matrix(y_test, y_pred)}\\n\")\n",
    "\n",
    "# compare and calculate accuracy\n",
    "accuracy = accuracy_score(y_test, y_pred)\n",
    "\n",
    "print(f\"Random Forest's accuracy is {accuracy}\")"
   ]
  },
  {
   "cell_type": "code",
   "execution_count": 25,
   "id": "07bb0d24",
   "metadata": {},
   "outputs": [
    {
     "data": {
      "image/png": "[encoded data removed]",
      "text/plain": [
       "<Figure size 1080x288 with 1 Axes>"
      ]
     },
     "metadata": {
      "needs_background": "light"
     },
     "output_type": "display_data"
    }
   ],
   "source": [
    "# plot feature importances using random forest method\n",
    "figure(figsize=(15, 4))\n",
    "\n",
    "# Plot the result.\n",
    "sns.barplot(x=X.columns, y=rf.feature_importances_, ci=None);\n",
    "\n",
    "# labels and title\n",
    "plt.xticks(rotation=90);\n",
    "plt.title('Feature importances in predicting account type');\n",
    "plt.ylabel('% Importance');\n",
    "plt.xlabel('Twitter Account features');"
   ]
  },
  {
   "cell_type": "markdown",
   "id": "87196698",
   "metadata": {},
   "source": [
    "## Decision Trees"
   ]
  },
  {
   "cell_type": "code",
   "execution_count": 26,
   "id": "87196f94",
   "metadata": {},
   "outputs": [
    {
     "name": "stdout",
     "output_type": "stream",
     "text": [
      "Test Result:\n",
      "================================================\n",
      "Accuracy Score: 90.08%\n",
      "_______________________________________________\n",
      "CLASSIFICATION REPORT:\n",
      "                     0            1  accuracy     macro avg  weighted avg\n",
      "precision     0.912339     0.885456  0.900807      0.898898      0.900782\n",
      "recall        0.913809     0.883565  0.900807      0.898687      0.900807\n",
      "f1-score      0.913073     0.884510  0.900807      0.898792      0.900794\n",
      "support    8690.000000  6553.000000  0.900807  15243.000000  15243.000000\n",
      "_______________________________________________\n",
      "Confusion Matrix: \n",
      " [[7941  749]\n",
      " [ 763 5790]]\n",
      "\n",
      "Decision Tree's accuracy is 0.9008069277701239\n"
     ]
    }
   ],
   "source": [
    "# create the model\n",
    "dt = DecisionTreeClassifier()\n",
    "\n",
    "# fit the model\n",
    "dt.fit(X_train, y_train)\n",
    "\n",
    "# predict using unseen data\n",
    "y_pred = dt.predict(X_test)\n",
    "\n",
    "clf_report = pd.DataFrame(classification_report(y_test, y_pred, output_dict=True))\n",
    "print(\"Test Result:\\n================================================\")        \n",
    "print(f\"Accuracy Score: {accuracy_score(y_test, y_pred) * 100:.2f}%\")\n",
    "print(\"_______________________________________________\")\n",
    "print(f\"CLASSIFICATION REPORT:\\n{clf_report}\")\n",
    "print(\"_______________________________________________\")\n",
    "print(f\"Confusion Matrix: \\n {confusion_matrix(y_test, y_pred)}\\n\")\n",
    "\n",
    "# compare and calculate accuracy\n",
    "accuracy = accuracy_score(y_test, y_pred)\n",
    "\n",
    "print(f\"Decision Tree's accuracy is {accuracy}\")"
   ]
  },
  {
   "cell_type": "markdown",
   "id": "af4b7ff8",
   "metadata": {},
   "source": [
    "## Naive Bayes"
   ]
  },
  {
   "cell_type": "code",
   "execution_count": 27,
   "id": "287be46a",
   "metadata": {},
   "outputs": [
    {
     "name": "stdout",
     "output_type": "stream",
     "text": [
      "Test Result:\n",
      "================================================\n",
      "Accuracy Score: 84.33%\n",
      "_______________________________________________\n",
      "CLASSIFICATION REPORT:\n",
      "                     0            1  accuracy     macro avg  weighted avg\n",
      "precision     0.835498     0.855922  0.843338      0.845710      0.844279\n",
      "recall        0.902992     0.764230  0.843338      0.833611      0.843338\n",
      "f1-score      0.867935     0.807481  0.843338      0.837708      0.841946\n",
      "support    8690.000000  6553.000000  0.843338  15243.000000  15243.000000\n",
      "_______________________________________________\n",
      "Confusion Matrix: \n",
      " [[7847  843]\n",
      " [1545 5008]]\n",
      "\n",
      "Naive Bayes' accuracy is 0.8433379256051958\n",
      "Number of correctly labeled points out of a total 15243 points : 12855\n"
     ]
    }
   ],
   "source": [
    "# create the model\n",
    "gnb = GaussianNB()\n",
    "\n",
    "# fit the model\n",
    "gnb.fit(X_train, y_train)\n",
    "\n",
    "# predict using unseen data\n",
    "y_pred = gnb.predict(X_test)\n",
    "\n",
    "clf_report = pd.DataFrame(classification_report(y_test, y_pred, output_dict=True))\n",
    "print(\"Test Result:\\n================================================\")        \n",
    "print(f\"Accuracy Score: {accuracy_score(y_test, y_pred) * 100:.2f}%\")\n",
    "print(\"_______________________________________________\")\n",
    "print(f\"CLASSIFICATION REPORT:\\n{clf_report}\")\n",
    "print(\"_______________________________________________\")\n",
    "print(f\"Confusion Matrix: \\n {confusion_matrix(y_test, y_pred)}\\n\")\n",
    "\n",
    "# compare and calculate accuracy\n",
    "accuracy = accuracy_score(y_test, y_pred)\n",
    "\n",
    "print(f\"Naive Bayes' accuracy is {accuracy}\")\n",
    "print(f\"Number of correctly labeled points out of a total {X_test.shape[0]} points : {(y_test == y_pred).sum()}\")"
   ]
  },
  {
   "cell_type": "code",
   "execution_count": null,
   "id": "8aa82651",
   "metadata": {},
   "outputs": [],
   "source": []
  },
  {
   "cell_type": "markdown",
   "id": "695b304f",
   "metadata": {},
   "source": [
    "# Test with another dataset to confirm accuracy [Celebrity]"
   ]
  },
  {
   "cell_type": "code",
   "execution_count": 28,
   "id": "72fe9ac8",
   "metadata": {},
   "outputs": [],
   "source": [
    "celebrity = pd.read_csv('celebrity.csv')"
   ]
  },
  {
   "cell_type": "code",
   "execution_count": 29,
   "id": "6e2fd77a",
   "metadata": {},
   "outputs": [],
   "source": [
    "celebrity['created_at'] = pd.to_datetime(celebrity['created_at'])"
   ]
  },
  {
   "cell_type": "code",
   "execution_count": 30,
   "id": "6037ba4a",
   "metadata": {},
   "outputs": [
    {
     "data": {
      "text/plain": [
       "(Timestamp('2006-10-24 03:32:27+0000', tz='UTC'),\n",
       " Timestamp('2017-10-29 13:31:55+0000', tz='UTC'))"
      ]
     },
     "execution_count": 30,
     "metadata": {},
     "output_type": "execute_result"
    }
   ],
   "source": [
    "celebrity.created_at.min(), celebrity.created_at.max()"
   ]
  },
  {
   "cell_type": "code",
   "execution_count": 31,
   "id": "921ad4cb",
   "metadata": {},
   "outputs": [],
   "source": [
    "celebrity['probe_timestamp'] = '2019-10-27'"
   ]
  },
  {
   "cell_type": "code",
   "execution_count": 32,
   "id": "ff9a8799",
   "metadata": {},
   "outputs": [],
   "source": [
    "celebrity['probe_timestamp'] = pd.to_datetime(celebrity['probe_timestamp'])"
   ]
  },
  {
   "cell_type": "code",
   "execution_count": 33,
   "id": "81c66665",
   "metadata": {},
   "outputs": [],
   "source": [
    "celebrity['created_at'] = celebrity['created_at'].dt.date"
   ]
  },
  {
   "cell_type": "code",
   "execution_count": 34,
   "id": "ac77ad02",
   "metadata": {},
   "outputs": [],
   "source": [
    "celebrity['created_at'] = pd.to_datetime(celebrity['created_at'])"
   ]
  },
  {
   "cell_type": "code",
   "execution_count": 35,
   "id": "e176c7a9",
   "metadata": {},
   "outputs": [],
   "source": [
    "celebrity['account_age_days'] = (celebrity['probe_timestamp'] - celebrity['created_at']).dt.days"
   ]
  },
  {
   "cell_type": "code",
   "execution_count": 36,
   "id": "9eb1d8a2",
   "metadata": {},
   "outputs": [],
   "source": [
    "# drop columns not used in building the model\n",
    "celebrity.drop(columns=['default_profile_image', 'id', 'lang', 'location', 'profile_image_url',\n",
    "                        'screen_name', 'probe_timestamp', 'tweet_ids'], inplace=True)"
   ]
  },
  {
   "cell_type": "code",
   "execution_count": 37,
   "id": "7a522bf1",
   "metadata": {},
   "outputs": [],
   "source": [
    "# Refactor profile_background_image_url\n",
    "celebrity[\"profile_background_image_url\"] = celebrity[\"profile_background_image_url\"].notnull().astype(\"int\")"
   ]
  },
  {
   "cell_type": "code",
   "execution_count": 38,
   "id": "8c06ad6d",
   "metadata": {},
   "outputs": [],
   "source": [
    "celebrity['created_at_day'] = celebrity.created_at.dt.day\n",
    "celebrity['created_at_month'] = celebrity.created_at.dt.month\n",
    "celebrity['created_at_year'] = celebrity.created_at.dt.year"
   ]
  },
  {
   "cell_type": "code",
   "execution_count": 39,
   "id": "33cb072c",
   "metadata": {},
   "outputs": [],
   "source": [
    "# drop created_at column\n",
    "celebrity.drop('created_at', axis=1, inplace=True)"
   ]
  },
  {
   "cell_type": "markdown",
   "id": "5fc6ea7b",
   "metadata": {},
   "source": [
    "**Make columns Machine Learning ready**"
   ]
  },
  {
   "cell_type": "code",
   "execution_count": 40,
   "id": "3910f7e9",
   "metadata": {},
   "outputs": [],
   "source": [
    "celebrity['default_profile'].replace([True, False], [1, 0], inplace=True)\n",
    "celebrity[\"description\"] = celebrity[\"description\"].notnull().astype(\"int\")\n",
    "celebrity['geo_enabled'].replace([True, False], [1, 0], inplace=True)\n",
    "celebrity['verified'].replace([True, False], [1, 0], inplace=True)"
   ]
  },
  {
   "cell_type": "code",
   "execution_count": 41,
   "id": "5eef8881",
   "metadata": {},
   "outputs": [],
   "source": [
    "celebrity['account_type'].replace(['human', 'bot'], [1, 0], inplace=True)"
   ]
  },
  {
   "cell_type": "code",
   "execution_count": 42,
   "id": "93075cd7",
   "metadata": {},
   "outputs": [
    {
     "data": {
      "text/html": [
       "<div>\n",
       "<style scoped>\n",
       "    .dataframe tbody tr th:only-of-type {\n",
       "        vertical-align: middle;\n",
       "    }\n",
       "\n",
       "    .dataframe tbody tr th {\n",
       "        vertical-align: top;\n",
       "    }\n",
       "\n",
       "    .dataframe thead th {\n",
       "        text-align: right;\n",
       "    }\n",
       "</style>\n",
       "<table border=\"1\" class=\"dataframe\">\n",
       "  <thead>\n",
       "    <tr style=\"text-align: right;\">\n",
       "      <th></th>\n",
       "      <th>default_profile</th>\n",
       "      <th>description</th>\n",
       "      <th>favourites_count</th>\n",
       "      <th>followers_count</th>\n",
       "      <th>friends_count</th>\n",
       "      <th>geo_enabled</th>\n",
       "      <th>profile_background_image_url</th>\n",
       "      <th>statuses_count</th>\n",
       "      <th>verified</th>\n",
       "      <th>account_type</th>\n",
       "      <th>account_age_days</th>\n",
       "      <th>created_at_day</th>\n",
       "      <th>created_at_month</th>\n",
       "      <th>created_at_year</th>\n",
       "    </tr>\n",
       "  </thead>\n",
       "  <tbody>\n",
       "    <tr>\n",
       "      <th>0</th>\n",
       "      <td>0</td>\n",
       "      <td>1</td>\n",
       "      <td>13561</td>\n",
       "      <td>651238</td>\n",
       "      <td>665</td>\n",
       "      <td>0</td>\n",
       "      <td>1</td>\n",
       "      <td>39411</td>\n",
       "      <td>1</td>\n",
       "      <td>1</td>\n",
       "      <td>4100</td>\n",
       "      <td>5</td>\n",
       "      <td>8</td>\n",
       "      <td>2008</td>\n",
       "    </tr>\n",
       "    <tr>\n",
       "      <th>1</th>\n",
       "      <td>0</td>\n",
       "      <td>1</td>\n",
       "      <td>11365</td>\n",
       "      <td>265102</td>\n",
       "      <td>943</td>\n",
       "      <td>0</td>\n",
       "      <td>1</td>\n",
       "      <td>41187</td>\n",
       "      <td>1</td>\n",
       "      <td>1</td>\n",
       "      <td>3785</td>\n",
       "      <td>16</td>\n",
       "      <td>6</td>\n",
       "      <td>2009</td>\n",
       "    </tr>\n",
       "    <tr>\n",
       "      <th>2</th>\n",
       "      <td>1</td>\n",
       "      <td>1</td>\n",
       "      <td>76</td>\n",
       "      <td>2724932</td>\n",
       "      <td>14</td>\n",
       "      <td>0</td>\n",
       "      <td>1</td>\n",
       "      <td>310</td>\n",
       "      <td>1</td>\n",
       "      <td>1</td>\n",
       "      <td>2089</td>\n",
       "      <td>6</td>\n",
       "      <td>2</td>\n",
       "      <td>2014</td>\n",
       "    </tr>\n",
       "    <tr>\n",
       "      <th>3</th>\n",
       "      <td>0</td>\n",
       "      <td>1</td>\n",
       "      <td>111</td>\n",
       "      <td>727503</td>\n",
       "      <td>293</td>\n",
       "      <td>1</td>\n",
       "      <td>1</td>\n",
       "      <td>16689</td>\n",
       "      <td>1</td>\n",
       "      <td>1</td>\n",
       "      <td>3845</td>\n",
       "      <td>17</td>\n",
       "      <td>4</td>\n",
       "      <td>2009</td>\n",
       "    </tr>\n",
       "    <tr>\n",
       "      <th>4</th>\n",
       "      <td>0</td>\n",
       "      <td>1</td>\n",
       "      <td>6215</td>\n",
       "      <td>1845847</td>\n",
       "      <td>686</td>\n",
       "      <td>1</td>\n",
       "      <td>1</td>\n",
       "      <td>4977</td>\n",
       "      <td>1</td>\n",
       "      <td>1</td>\n",
       "      <td>3758</td>\n",
       "      <td>13</td>\n",
       "      <td>7</td>\n",
       "      <td>2009</td>\n",
       "    </tr>\n",
       "  </tbody>\n",
       "</table>\n",
       "</div>"
      ],
      "text/plain": [
       "   default_profile  description  favourites_count  followers_count  \\\n",
       "0                0            1             13561           651238   \n",
       "1                0            1             11365           265102   \n",
       "2                1            1                76          2724932   \n",
       "3                0            1               111           727503   \n",
       "4                0            1              6215          1845847   \n",
       "\n",
       "   friends_count  geo_enabled  profile_background_image_url  statuses_count  \\\n",
       "0            665            0                             1           39411   \n",
       "1            943            0                             1           41187   \n",
       "2             14            0                             1             310   \n",
       "3            293            1                             1           16689   \n",
       "4            686            1                             1            4977   \n",
       "\n",
       "   verified  account_type  account_age_days  created_at_day  created_at_month  \\\n",
       "0         1             1              4100               5                 8   \n",
       "1         1             1              3785              16                 6   \n",
       "2         1             1              2089               6                 2   \n",
       "3         1             1              3845              17                 4   \n",
       "4         1             1              3758              13                 7   \n",
       "\n",
       "   created_at_year  \n",
       "0             2008  \n",
       "1             2009  \n",
       "2             2014  \n",
       "3             2009  \n",
       "4             2009  "
      ]
     },
     "execution_count": 42,
     "metadata": {},
     "output_type": "execute_result"
    }
   ],
   "source": [
    "celebrity.head()"
   ]
  },
  {
   "cell_type": "markdown",
   "id": "986196af",
   "metadata": {},
   "source": [
    "## Machine Learning"
   ]
  },
  {
   "cell_type": "code",
   "execution_count": 43,
   "id": "0852f6a8",
   "metadata": {},
   "outputs": [],
   "source": [
    "X_celebrity = celebrity.drop('account_type', axis=1)\n",
    "y_celebrity = celebrity['account_type']"
   ]
  },
  {
   "cell_type": "code",
   "execution_count": 44,
   "id": "9e63d0d8",
   "metadata": {},
   "outputs": [],
   "source": [
    "col_to_scale = ['followers_count', 'friends_count', 'favourites_count', 'statuses_count', 'account_age_days',\n",
    "                'created_at_day', 'created_at_month', 'created_at_year']\n",
    "X_celebrity[col_to_scale] = sc.transform(X_celebrity[col_to_scale])"
   ]
  },
  {
   "cell_type": "markdown",
   "id": "76b7aaad",
   "metadata": {},
   "source": [
    "## KNN"
   ]
  },
  {
   "cell_type": "code",
   "execution_count": 45,
   "id": "d24f7a45",
   "metadata": {},
   "outputs": [
    {
     "name": "stdout",
     "output_type": "stream",
     "text": [
      "KNN's accuracy is 0.9560662385941197\n"
     ]
    }
   ],
   "source": [
    "# predict using unseen data\n",
    "y_pred = knn.predict(X_celebrity)\n",
    "\n",
    "# compare and calculate accuracy\n",
    "accuracy = accuracy_score(y_celebrity, y_pred)\n",
    "\n",
    "print(f\"KNN's accuracy is {accuracy}\")"
   ]
  },
  {
   "cell_type": "markdown",
   "id": "c573012e",
   "metadata": {},
   "source": [
    "## Random Forest"
   ]
  },
  {
   "cell_type": "code",
   "execution_count": 46,
   "id": "c381033e",
   "metadata": {
    "scrolled": true
   },
   "outputs": [
    {
     "name": "stdout",
     "output_type": "stream",
     "text": [
      "Random Forest's accuracy is 0.9954376478540047\n"
     ]
    }
   ],
   "source": [
    "# predict using unseen data\n",
    "y_pred = rf.predict(X_celebrity)\n",
    "\n",
    "# compare and calculate accuracy\n",
    "accuracy = accuracy_score(y_celebrity, y_pred)\n",
    "\n",
    "print(f\"Random Forest's accuracy is {accuracy}\")"
   ]
  },
  {
   "cell_type": "markdown",
   "id": "f3ecdb4b",
   "metadata": {},
   "source": [
    "## Decision Trees"
   ]
  },
  {
   "cell_type": "code",
   "execution_count": 47,
   "id": "6e39ee7d",
   "metadata": {},
   "outputs": [
    {
     "name": "stdout",
     "output_type": "stream",
     "text": [
      "Decision Tree's accuracy is 0.9560662385941197\n"
     ]
    }
   ],
   "source": [
    "# predict using unseen data\n",
    "y_pred = dt.predict(X_celebrity)\n",
    "\n",
    "# compare and calculate accuracy\n",
    "accuracy = accuracy_score(y_celebrity, y_pred)\n",
    "\n",
    "print(f\"Decision Tree's accuracy is {accuracy}\")"
   ]
  },
  {
   "cell_type": "code",
   "execution_count": null,
   "id": "d126a899",
   "metadata": {},
   "outputs": [],
   "source": []
  },
  {
   "cell_type": "markdown",
   "id": "a1e86845",
   "metadata": {},
   "source": [
    "# Test with another dataset to confirm accuracy [Pronbots]"
   ]
  },
  {
   "cell_type": "code",
   "execution_count": 48,
   "id": "6b5bb420",
   "metadata": {},
   "outputs": [],
   "source": [
    "pronbots = pd.read_csv('pronbots.csv')"
   ]
  },
  {
   "cell_type": "code",
   "execution_count": 49,
   "id": "e0f86b68",
   "metadata": {},
   "outputs": [
    {
     "name": "stdout",
     "output_type": "stream",
     "text": [
      "<class 'pandas.core.frame.DataFrame'>\n",
      "RangeIndex: 17882 entries, 0 to 17881\n",
      "Data columns (total 18 columns):\n",
      " #   Column                        Non-Null Count  Dtype \n",
      "---  ------                        --------------  ----- \n",
      " 0   created_at                    17882 non-null  object\n",
      " 1   default_profile               17882 non-null  bool  \n",
      " 2   default_profile_image         17882 non-null  bool  \n",
      " 3   description                   17807 non-null  object\n",
      " 4   favourites_count              17882 non-null  int64 \n",
      " 5   followers_count               17882 non-null  int64 \n",
      " 6   friends_count                 17882 non-null  int64 \n",
      " 7   geo_enabled                   17882 non-null  bool  \n",
      " 8   id                            17882 non-null  int64 \n",
      " 9   lang                          17882 non-null  object\n",
      " 10  location                      3032 non-null   object\n",
      " 11  profile_background_image_url  16337 non-null  object\n",
      " 12  profile_image_url             17880 non-null  object\n",
      " 13  screen_name                   17882 non-null  object\n",
      " 14  statuses_count                17882 non-null  int64 \n",
      " 15  verified                      17882 non-null  bool  \n",
      " 16  tweet_ids                     17882 non-null  int64 \n",
      " 17  account_type                  17882 non-null  object\n",
      "dtypes: bool(4), int64(6), object(8)\n",
      "memory usage: 2.0+ MB\n"
     ]
    }
   ],
   "source": [
    "pronbots.info()"
   ]
  },
  {
   "cell_type": "code",
   "execution_count": 50,
   "id": "7b6ea7f9",
   "metadata": {},
   "outputs": [],
   "source": [
    "pronbots['created_at'] = pd.to_datetime(pronbots['created_at'])"
   ]
  },
  {
   "cell_type": "code",
   "execution_count": 51,
   "id": "339e10f5",
   "metadata": {},
   "outputs": [
    {
     "data": {
      "text/plain": [
       "(Timestamp('2007-06-20 05:10:39+0000', tz='UTC'),\n",
       " Timestamp('2018-03-07 19:09:23+0000', tz='UTC'))"
      ]
     },
     "execution_count": 51,
     "metadata": {},
     "output_type": "execute_result"
    }
   ],
   "source": [
    "pronbots.created_at.min(), pronbots.created_at.max()"
   ]
  },
  {
   "cell_type": "code",
   "execution_count": 52,
   "id": "c8b74dc7",
   "metadata": {},
   "outputs": [],
   "source": [
    "pronbots['probe_timestamp'] = '2019-05-13'"
   ]
  },
  {
   "cell_type": "code",
   "execution_count": 53,
   "id": "c724612a",
   "metadata": {},
   "outputs": [],
   "source": [
    "pronbots['probe_timestamp'] = pd.to_datetime(pronbots['probe_timestamp'])"
   ]
  },
  {
   "cell_type": "code",
   "execution_count": 54,
   "id": "11ec8a6b",
   "metadata": {},
   "outputs": [],
   "source": [
    "pronbots['created_at'] = pronbots['created_at'].dt.date"
   ]
  },
  {
   "cell_type": "code",
   "execution_count": 55,
   "id": "ac77ad02",
   "metadata": {},
   "outputs": [],
   "source": [
    "pronbots['created_at'] = pd.to_datetime(pronbots['created_at'])"
   ]
  },
  {
   "cell_type": "code",
   "execution_count": 56,
   "id": "e176c7a9",
   "metadata": {},
   "outputs": [],
   "source": [
    "pronbots['account_age_days'] = (pronbots['probe_timestamp'] - pronbots['created_at']).dt.days"
   ]
  },
  {
   "cell_type": "code",
   "execution_count": 57,
   "id": "9eb1d8a2",
   "metadata": {},
   "outputs": [],
   "source": [
    "# drop columns not used in building the model\n",
    "pronbots.drop(columns=['default_profile_image', 'id', 'lang', 'location', 'profile_image_url',\n",
    "                        'screen_name', 'probe_timestamp', 'tweet_ids'], inplace=True)"
   ]
  },
  {
   "cell_type": "code",
   "execution_count": 58,
   "id": "7a522bf1",
   "metadata": {},
   "outputs": [],
   "source": [
    "# Refactor profile_background_image_url\n",
    "pronbots[\"profile_background_image_url\"] = pronbots[\"profile_background_image_url\"].notnull().astype(\"int\")"
   ]
  },
  {
   "cell_type": "code",
   "execution_count": 59,
   "id": "8c06ad6d",
   "metadata": {},
   "outputs": [],
   "source": [
    "pronbots['created_at_day'] = pronbots.created_at.dt.day\n",
    "pronbots['created_at_month'] = pronbots.created_at.dt.month\n",
    "pronbots['created_at_year'] = pronbots.created_at.dt.year"
   ]
  },
  {
   "cell_type": "code",
   "execution_count": 60,
   "id": "33cb072c",
   "metadata": {},
   "outputs": [],
   "source": [
    "# drop created_at column\n",
    "pronbots.drop('created_at', axis=1, inplace=True)"
   ]
  },
  {
   "cell_type": "markdown",
   "id": "5fc6ea7b",
   "metadata": {},
   "source": [
    "**Make columns Machine Learning ready**"
   ]
  },
  {
   "cell_type": "code",
   "execution_count": 61,
   "id": "3910f7e9",
   "metadata": {},
   "outputs": [],
   "source": [
    "pronbots['default_profile'].replace([True, False], [1, 0], inplace=True)\n",
    "pronbots[\"description\"] = pronbots[\"description\"].notnull().astype(\"int\")\n",
    "pronbots['geo_enabled'].replace([True, False], [1, 0], inplace=True)\n",
    "pronbots['verified'].replace([True, False], [1, 0], inplace=True)"
   ]
  },
  {
   "cell_type": "code",
   "execution_count": 62,
   "id": "5eef8881",
   "metadata": {},
   "outputs": [],
   "source": [
    "pronbots['account_type'].replace(['human', 'bot'], [1, 0], inplace=True)"
   ]
  },
  {
   "cell_type": "code",
   "execution_count": 63,
   "id": "93075cd7",
   "metadata": {},
   "outputs": [
    {
     "data": {
      "text/html": [
       "<div>\n",
       "<style scoped>\n",
       "    .dataframe tbody tr th:only-of-type {\n",
       "        vertical-align: middle;\n",
       "    }\n",
       "\n",
       "    .dataframe tbody tr th {\n",
       "        vertical-align: top;\n",
       "    }\n",
       "\n",
       "    .dataframe thead th {\n",
       "        text-align: right;\n",
       "    }\n",
       "</style>\n",
       "<table border=\"1\" class=\"dataframe\">\n",
       "  <thead>\n",
       "    <tr style=\"text-align: right;\">\n",
       "      <th></th>\n",
       "      <th>default_profile</th>\n",
       "      <th>description</th>\n",
       "      <th>favourites_count</th>\n",
       "      <th>followers_count</th>\n",
       "      <th>friends_count</th>\n",
       "      <th>geo_enabled</th>\n",
       "      <th>profile_background_image_url</th>\n",
       "      <th>statuses_count</th>\n",
       "      <th>verified</th>\n",
       "      <th>account_type</th>\n",
       "      <th>account_age_days</th>\n",
       "      <th>created_at_day</th>\n",
       "      <th>created_at_month</th>\n",
       "      <th>created_at_year</th>\n",
       "    </tr>\n",
       "  </thead>\n",
       "  <tbody>\n",
       "    <tr>\n",
       "      <th>0</th>\n",
       "      <td>0</td>\n",
       "      <td>1</td>\n",
       "      <td>515</td>\n",
       "      <td>42</td>\n",
       "      <td>240</td>\n",
       "      <td>0</td>\n",
       "      <td>1</td>\n",
       "      <td>101</td>\n",
       "      <td>0</td>\n",
       "      <td>0</td>\n",
       "      <td>3483</td>\n",
       "      <td>29</td>\n",
       "      <td>10</td>\n",
       "      <td>2009</td>\n",
       "    </tr>\n",
       "    <tr>\n",
       "      <th>1</th>\n",
       "      <td>1</td>\n",
       "      <td>1</td>\n",
       "      <td>187</td>\n",
       "      <td>16</td>\n",
       "      <td>0</td>\n",
       "      <td>0</td>\n",
       "      <td>1</td>\n",
       "      <td>38</td>\n",
       "      <td>0</td>\n",
       "      <td>0</td>\n",
       "      <td>3394</td>\n",
       "      <td>26</td>\n",
       "      <td>1</td>\n",
       "      <td>2010</td>\n",
       "    </tr>\n",
       "    <tr>\n",
       "      <th>2</th>\n",
       "      <td>1</td>\n",
       "      <td>1</td>\n",
       "      <td>178</td>\n",
       "      <td>7</td>\n",
       "      <td>0</td>\n",
       "      <td>0</td>\n",
       "      <td>1</td>\n",
       "      <td>32</td>\n",
       "      <td>0</td>\n",
       "      <td>0</td>\n",
       "      <td>2020</td>\n",
       "      <td>31</td>\n",
       "      <td>10</td>\n",
       "      <td>2013</td>\n",
       "    </tr>\n",
       "    <tr>\n",
       "      <th>3</th>\n",
       "      <td>1</td>\n",
       "      <td>1</td>\n",
       "      <td>838</td>\n",
       "      <td>99</td>\n",
       "      <td>500</td>\n",
       "      <td>0</td>\n",
       "      <td>1</td>\n",
       "      <td>145</td>\n",
       "      <td>0</td>\n",
       "      <td>0</td>\n",
       "      <td>3147</td>\n",
       "      <td>30</td>\n",
       "      <td>9</td>\n",
       "      <td>2010</td>\n",
       "    </tr>\n",
       "    <tr>\n",
       "      <th>4</th>\n",
       "      <td>1</td>\n",
       "      <td>1</td>\n",
       "      <td>628</td>\n",
       "      <td>59</td>\n",
       "      <td>419</td>\n",
       "      <td>0</td>\n",
       "      <td>1</td>\n",
       "      <td>39</td>\n",
       "      <td>0</td>\n",
       "      <td>0</td>\n",
       "      <td>2400</td>\n",
       "      <td>16</td>\n",
       "      <td>10</td>\n",
       "      <td>2012</td>\n",
       "    </tr>\n",
       "  </tbody>\n",
       "</table>\n",
       "</div>"
      ],
      "text/plain": [
       "   default_profile  description  favourites_count  followers_count  \\\n",
       "0                0            1               515               42   \n",
       "1                1            1               187               16   \n",
       "2                1            1               178                7   \n",
       "3                1            1               838               99   \n",
       "4                1            1               628               59   \n",
       "\n",
       "   friends_count  geo_enabled  profile_background_image_url  statuses_count  \\\n",
       "0            240            0                             1             101   \n",
       "1              0            0                             1              38   \n",
       "2              0            0                             1              32   \n",
       "3            500            0                             1             145   \n",
       "4            419            0                             1              39   \n",
       "\n",
       "  verified  account_type  account_age_days  created_at_day  created_at_month  \\\n",
       "0        0             0              3483              29                10   \n",
       "1        0             0              3394              26                 1   \n",
       "2        0             0              2020              31                10   \n",
       "3        0             0              3147              30                 9   \n",
       "4        0             0              2400              16                10   \n",
       "\n",
       "   created_at_year  \n",
       "0             2009  \n",
       "1             2010  \n",
       "2             2013  \n",
       "3             2010  \n",
       "4             2012  "
      ]
     },
     "execution_count": 63,
     "metadata": {},
     "output_type": "execute_result"
    }
   ],
   "source": [
    "pronbots.head()"
   ]
  },
  {
   "cell_type": "markdown",
   "id": "986196af",
   "metadata": {},
   "source": [
    "## Machine Learning"
   ]
  },
  {
   "cell_type": "code",
   "execution_count": 64,
   "id": "0852f6a8",
   "metadata": {},
   "outputs": [],
   "source": [
    "X_pronbots = pronbots.drop('account_type', axis=1)\n",
    "y_pronbots = pronbots['account_type']"
   ]
  },
  {
   "cell_type": "code",
   "execution_count": 65,
   "id": "9e63d0d8",
   "metadata": {},
   "outputs": [],
   "source": [
    "col_to_scale = ['followers_count', 'friends_count', 'favourites_count', 'statuses_count', 'account_age_days',\n",
    "                'created_at_day', 'created_at_month', 'created_at_year']\n",
    "X_pronbots[col_to_scale] = sc.transform(X_pronbots[col_to_scale])"
   ]
  },
  {
   "cell_type": "markdown",
   "id": "76b7aaad",
   "metadata": {},
   "source": [
    "## KNN"
   ]
  },
  {
   "cell_type": "code",
   "execution_count": 66,
   "id": "d24f7a45",
   "metadata": {},
   "outputs": [
    {
     "name": "stdout",
     "output_type": "stream",
     "text": [
      "KNN's accuracy is 0.4513477239682362\n"
     ]
    }
   ],
   "source": [
    "# predict using unseen data\n",
    "y_pred = knn.predict(X_pronbots)\n",
    "\n",
    "# compare and calculate accuracy\n",
    "accuracy = accuracy_score(y_pronbots, y_pred)\n",
    "\n",
    "print(f\"KNN's accuracy is {accuracy}\")"
   ]
  },
  {
   "cell_type": "markdown",
   "id": "c573012e",
   "metadata": {},
   "source": [
    "## Random Forest"
   ]
  },
  {
   "cell_type": "code",
   "execution_count": 67,
   "id": "c381033e",
   "metadata": {},
   "outputs": [
    {
     "name": "stdout",
     "output_type": "stream",
     "text": [
      "Random Forest's accuracy is 0.8801028967676994\n"
     ]
    }
   ],
   "source": [
    "# predict using unseen data\n",
    "y_pred = rf.predict(X_pronbots)\n",
    "\n",
    "# compare and calculate accuracy\n",
    "accuracy = accuracy_score(y_pronbots, y_pred)\n",
    "\n",
    "print(f\"Random Forest's accuracy is {accuracy}\")"
   ]
  },
  {
   "cell_type": "markdown",
   "id": "f3ecdb4b",
   "metadata": {},
   "source": [
    "## Decision Trees"
   ]
  },
  {
   "cell_type": "code",
   "execution_count": 68,
   "id": "6e39ee7d",
   "metadata": {},
   "outputs": [
    {
     "name": "stdout",
     "output_type": "stream",
     "text": [
      "Decision Tree's accuracy is 0.8701487529359132\n"
     ]
    }
   ],
   "source": [
    "# predict using unseen data\n",
    "y_pred = dt.predict(X_pronbots)\n",
    "\n",
    "# compare and calculate accuracy\n",
    "accuracy = accuracy_score(y_pronbots, y_pred)\n",
    "\n",
    "print(f\"Decision Tree's accuracy is {accuracy}\")"
   ]
  },
  {
   "cell_type": "code",
   "execution_count": null,
   "id": "6e15c6e4",
   "metadata": {},
   "outputs": [],
   "source": []
  },
  {
   "cell_type": "markdown",
   "id": "a1e86845",
   "metadata": {},
   "source": [
    "# Test with another dataset to confirm accuracy [Cresci]"
   ]
  },
  {
   "cell_type": "code",
   "execution_count": 71,
   "id": "6b5bb420",
   "metadata": {},
   "outputs": [],
   "source": [
    "cresci = pd.read_csv('cresci.csv')"
   ]
  },
  {
   "cell_type": "code",
   "execution_count": 72,
   "id": "e0f86b68",
   "metadata": {},
   "outputs": [
    {
     "name": "stdout",
     "output_type": "stream",
     "text": [
      "<class 'pandas.core.frame.DataFrame'>\n",
      "RangeIndex: 13276 entries, 0 to 13275\n",
      "Data columns (total 18 columns):\n",
      " #   Column                        Non-Null Count  Dtype \n",
      "---  ------                        --------------  ----- \n",
      " 0   created_at                    13276 non-null  object\n",
      " 1   default_profile               13276 non-null  bool  \n",
      " 2   default_profile_image         13276 non-null  bool  \n",
      " 3   description                   8636 non-null   object\n",
      " 4   favourites_count              13276 non-null  int64 \n",
      " 5   followers_count               13276 non-null  int64 \n",
      " 6   friends_count                 13276 non-null  int64 \n",
      " 7   geo_enabled                   13276 non-null  bool  \n",
      " 8   id                            13276 non-null  int64 \n",
      " 9   lang                          13276 non-null  object\n",
      " 10  location                      7258 non-null   object\n",
      " 11  profile_background_image_url  10746 non-null  object\n",
      " 12  profile_image_url             13276 non-null  object\n",
      " 13  screen_name                   13276 non-null  object\n",
      " 14  statuses_count                13276 non-null  int64 \n",
      " 15  verified                      13276 non-null  bool  \n",
      " 16  tweet_ids                     13276 non-null  int64 \n",
      " 17  account_type                  13276 non-null  object\n",
      "dtypes: bool(4), int64(6), object(8)\n",
      "memory usage: 1.5+ MB\n"
     ]
    }
   ],
   "source": [
    "cresci.info()"
   ]
  },
  {
   "cell_type": "code",
   "execution_count": 73,
   "id": "7b6ea7f9",
   "metadata": {},
   "outputs": [],
   "source": [
    "cresci['created_at'] = pd.to_datetime(cresci['created_at'])"
   ]
  },
  {
   "cell_type": "code",
   "execution_count": 74,
   "id": "339e10f5",
   "metadata": {},
   "outputs": [
    {
     "data": {
      "text/plain": [
       "(Timestamp('2006-07-05 19:52:46+0000', tz='UTC'),\n",
       " Timestamp('2017-09-04 09:12:41+0000', tz='UTC'))"
      ]
     },
     "execution_count": 74,
     "metadata": {},
     "output_type": "execute_result"
    }
   ],
   "source": [
    "cresci.created_at.min(), cresci.created_at.max()"
   ]
  },
  {
   "cell_type": "code",
   "execution_count": 75,
   "id": "c8b74dc7",
   "metadata": {},
   "outputs": [],
   "source": [
    "cresci['probe_timestamp'] = '2018-09-04'"
   ]
  },
  {
   "cell_type": "code",
   "execution_count": 76,
   "id": "c724612a",
   "metadata": {},
   "outputs": [],
   "source": [
    "cresci['probe_timestamp'] = pd.to_datetime(cresci['probe_timestamp'])"
   ]
  },
  {
   "cell_type": "code",
   "execution_count": 77,
   "id": "81c66665",
   "metadata": {},
   "outputs": [],
   "source": [
    "cresci['created_at'] = cresci['created_at'].dt.date"
   ]
  },
  {
   "cell_type": "code",
   "execution_count": 78,
   "id": "ac77ad02",
   "metadata": {},
   "outputs": [],
   "source": [
    "cresci['created_at'] = pd.to_datetime(cresci['created_at'])"
   ]
  },
  {
   "cell_type": "code",
   "execution_count": 79,
   "id": "e176c7a9",
   "metadata": {},
   "outputs": [],
   "source": [
    "cresci['account_age_days'] = (cresci['probe_timestamp'] - cresci['created_at']).dt.days"
   ]
  },
  {
   "cell_type": "code",
   "execution_count": 80,
   "id": "9eb1d8a2",
   "metadata": {},
   "outputs": [],
   "source": [
    "# drop columns not used in building the model\n",
    "cresci.drop(columns=['default_profile_image', 'id', 'lang', 'location', 'profile_image_url',\n",
    "                        'screen_name', 'probe_timestamp', 'tweet_ids'], inplace=True)"
   ]
  },
  {
   "cell_type": "code",
   "execution_count": 81,
   "id": "7a522bf1",
   "metadata": {},
   "outputs": [],
   "source": [
    "# Refactor profile_background_image_url\n",
    "cresci[\"profile_background_image_url\"] = cresci[\"profile_background_image_url\"].notnull().astype(\"int\")"
   ]
  },
  {
   "cell_type": "code",
   "execution_count": 82,
   "id": "8c06ad6d",
   "metadata": {},
   "outputs": [],
   "source": [
    "cresci['created_at_day'] = cresci.created_at.dt.day\n",
    "cresci['created_at_month'] = cresci.created_at.dt.month\n",
    "cresci['created_at_year'] = cresci.created_at.dt.year"
   ]
  },
  {
   "cell_type": "code",
   "execution_count": 83,
   "id": "33cb072c",
   "metadata": {},
   "outputs": [],
   "source": [
    "# drop created_at column\n",
    "cresci.drop('created_at', axis=1, inplace=True)"
   ]
  },
  {
   "cell_type": "markdown",
   "id": "5fc6ea7b",
   "metadata": {},
   "source": [
    "**Make columns Machine Learning ready**"
   ]
  },
  {
   "cell_type": "code",
   "execution_count": 84,
   "id": "3910f7e9",
   "metadata": {},
   "outputs": [],
   "source": [
    "cresci['default_profile'].replace([True, False], [1, 0], inplace=True)\n",
    "cresci[\"description\"] = cresci[\"description\"].notnull().astype(\"int\")\n",
    "cresci['geo_enabled'].replace([True, False], [1, 0], inplace=True)\n",
    "cresci['verified'].replace([True, False], [1, 0], inplace=True)"
   ]
  },
  {
   "cell_type": "code",
   "execution_count": 85,
   "id": "5eef8881",
   "metadata": {},
   "outputs": [],
   "source": [
    "cresci['account_type'].replace(['human', 'bot'], [1, 0], inplace=True)"
   ]
  },
  {
   "cell_type": "code",
   "execution_count": 86,
   "id": "93075cd7",
   "metadata": {},
   "outputs": [
    {
     "data": {
      "text/html": [
       "<div>\n",
       "<style scoped>\n",
       "    .dataframe tbody tr th:only-of-type {\n",
       "        vertical-align: middle;\n",
       "    }\n",
       "\n",
       "    .dataframe tbody tr th {\n",
       "        vertical-align: top;\n",
       "    }\n",
       "\n",
       "    .dataframe thead th {\n",
       "        text-align: right;\n",
       "    }\n",
       "</style>\n",
       "<table border=\"1\" class=\"dataframe\">\n",
       "  <thead>\n",
       "    <tr style=\"text-align: right;\">\n",
       "      <th></th>\n",
       "      <th>default_profile</th>\n",
       "      <th>description</th>\n",
       "      <th>favourites_count</th>\n",
       "      <th>followers_count</th>\n",
       "      <th>friends_count</th>\n",
       "      <th>geo_enabled</th>\n",
       "      <th>profile_background_image_url</th>\n",
       "      <th>statuses_count</th>\n",
       "      <th>verified</th>\n",
       "      <th>account_type</th>\n",
       "      <th>account_age_days</th>\n",
       "      <th>created_at_day</th>\n",
       "      <th>created_at_month</th>\n",
       "      <th>created_at_year</th>\n",
       "    </tr>\n",
       "  </thead>\n",
       "  <tbody>\n",
       "    <tr>\n",
       "      <th>0</th>\n",
       "      <td>1</td>\n",
       "      <td>1</td>\n",
       "      <td>2148</td>\n",
       "      <td>6</td>\n",
       "      <td>12</td>\n",
       "      <td>0</td>\n",
       "      <td>1</td>\n",
       "      <td>2962</td>\n",
       "      <td>0</td>\n",
       "      <td>0</td>\n",
       "      <td>2722</td>\n",
       "      <td>23</td>\n",
       "      <td>3</td>\n",
       "      <td>2011</td>\n",
       "    </tr>\n",
       "    <tr>\n",
       "      <th>1</th>\n",
       "      <td>1</td>\n",
       "      <td>1</td>\n",
       "      <td>16843</td>\n",
       "      <td>1716</td>\n",
       "      <td>2466</td>\n",
       "      <td>0</td>\n",
       "      <td>1</td>\n",
       "      <td>7993</td>\n",
       "      <td>0</td>\n",
       "      <td>1</td>\n",
       "      <td>1822</td>\n",
       "      <td>8</td>\n",
       "      <td>9</td>\n",
       "      <td>2013</td>\n",
       "    </tr>\n",
       "    <tr>\n",
       "      <th>2</th>\n",
       "      <td>0</td>\n",
       "      <td>1</td>\n",
       "      <td>9880</td>\n",
       "      <td>2010</td>\n",
       "      <td>684</td>\n",
       "      <td>1</td>\n",
       "      <td>1</td>\n",
       "      <td>64568</td>\n",
       "      <td>0</td>\n",
       "      <td>1</td>\n",
       "      <td>1911</td>\n",
       "      <td>11</td>\n",
       "      <td>6</td>\n",
       "      <td>2013</td>\n",
       "    </tr>\n",
       "    <tr>\n",
       "      <th>3</th>\n",
       "      <td>0</td>\n",
       "      <td>0</td>\n",
       "      <td>2419</td>\n",
       "      <td>220</td>\n",
       "      <td>0</td>\n",
       "      <td>1</td>\n",
       "      <td>1</td>\n",
       "      <td>3919</td>\n",
       "      <td>0</td>\n",
       "      <td>0</td>\n",
       "      <td>2258</td>\n",
       "      <td>29</td>\n",
       "      <td>6</td>\n",
       "      <td>2012</td>\n",
       "    </tr>\n",
       "    <tr>\n",
       "      <th>4</th>\n",
       "      <td>1</td>\n",
       "      <td>1</td>\n",
       "      <td>31688</td>\n",
       "      <td>404</td>\n",
       "      <td>313</td>\n",
       "      <td>1</td>\n",
       "      <td>0</td>\n",
       "      <td>24867</td>\n",
       "      <td>0</td>\n",
       "      <td>1</td>\n",
       "      <td>919</td>\n",
       "      <td>28</td>\n",
       "      <td>2</td>\n",
       "      <td>2016</td>\n",
       "    </tr>\n",
       "  </tbody>\n",
       "</table>\n",
       "</div>"
      ],
      "text/plain": [
       "   default_profile  description  favourites_count  followers_count  \\\n",
       "0                1            1              2148                6   \n",
       "1                1            1             16843             1716   \n",
       "2                0            1              9880             2010   \n",
       "3                0            0              2419              220   \n",
       "4                1            1             31688              404   \n",
       "\n",
       "   friends_count  geo_enabled  profile_background_image_url  statuses_count  \\\n",
       "0             12            0                             1            2962   \n",
       "1           2466            0                             1            7993   \n",
       "2            684            1                             1           64568   \n",
       "3              0            1                             1            3919   \n",
       "4            313            1                             0           24867   \n",
       "\n",
       "   verified  account_type  account_age_days  created_at_day  created_at_month  \\\n",
       "0         0             0              2722              23                 3   \n",
       "1         0             1              1822               8                 9   \n",
       "2         0             1              1911              11                 6   \n",
       "3         0             0              2258              29                 6   \n",
       "4         0             1               919              28                 2   \n",
       "\n",
       "   created_at_year  \n",
       "0             2011  \n",
       "1             2013  \n",
       "2             2013  \n",
       "3             2012  \n",
       "4             2016  "
      ]
     },
     "execution_count": 86,
     "metadata": {},
     "output_type": "execute_result"
    }
   ],
   "source": [
    "cresci.head()"
   ]
  },
  {
   "cell_type": "markdown",
   "id": "986196af",
   "metadata": {},
   "source": [
    "## Machine Learning"
   ]
  },
  {
   "cell_type": "code",
   "execution_count": 87,
   "id": "0852f6a8",
   "metadata": {},
   "outputs": [],
   "source": [
    "X_cresci = cresci.drop('account_type', axis=1)\n",
    "y_cresci = cresci['account_type']"
   ]
  },
  {
   "cell_type": "code",
   "execution_count": 88,
   "id": "9e63d0d8",
   "metadata": {},
   "outputs": [],
   "source": [
    "col_to_scale = ['followers_count', 'friends_count', 'favourites_count', 'statuses_count', 'account_age_days',\n",
    "                'created_at_day', 'created_at_month', 'created_at_year']\n",
    "X_cresci[col_to_scale] = sc.transform(X_cresci[col_to_scale])"
   ]
  },
  {
   "cell_type": "markdown",
   "id": "76b7aaad",
   "metadata": {},
   "source": [
    "## KNN"
   ]
  },
  {
   "cell_type": "code",
   "execution_count": 89,
   "id": "d24f7a45",
   "metadata": {},
   "outputs": [
    {
     "name": "stdout",
     "output_type": "stream",
     "text": [
      "KNN's accuracy is 0.5753992166315155\n"
     ]
    }
   ],
   "source": [
    "# predict using unseen data\n",
    "y_pred = knn.predict(X_cresci)\n",
    "\n",
    "# compare and calculate accuracy\n",
    "accuracy = accuracy_score(y_cresci, y_pred)\n",
    "\n",
    "print(f\"KNN's accuracy is {accuracy}\")"
   ]
  },
  {
   "cell_type": "markdown",
   "id": "c573012e",
   "metadata": {},
   "source": [
    "## Random Forest"
   ]
  },
  {
   "cell_type": "code",
   "execution_count": 90,
   "id": "c381033e",
   "metadata": {},
   "outputs": [
    {
     "name": "stdout",
     "output_type": "stream",
     "text": [
      "Random Forest's accuracy is 0.808677312443507\n"
     ]
    }
   ],
   "source": [
    "# predict using unseen data\n",
    "y_pred = rf.predict(X_cresci)\n",
    "\n",
    "# compare and calculate accuracy\n",
    "accuracy = accuracy_score(y_cresci, y_pred)\n",
    "\n",
    "print(f\"Random Forest's accuracy is {accuracy}\")"
   ]
  },
  {
   "cell_type": "markdown",
   "id": "f3ecdb4b",
   "metadata": {},
   "source": [
    "## Decision Trees"
   ]
  },
  {
   "cell_type": "code",
   "execution_count": 91,
   "id": "6e39ee7d",
   "metadata": {},
   "outputs": [
    {
     "name": "stdout",
     "output_type": "stream",
     "text": [
      "Decision Tree's accuracy is 0.6984784573666767\n"
     ]
    }
   ],
   "source": [
    "# predict using unseen data\n",
    "y_pred = dt.predict(X_cresci)\n",
    "\n",
    "# compare and calculate accuracy\n",
    "accuracy = accuracy_score(y_cresci, y_pred)\n",
    "\n",
    "print(f\"Decision Tree's accuracy is {accuracy}\")"
   ]
  },
  {
   "cell_type": "code",
   "execution_count": null,
   "id": "d126a899",
   "metadata": {},
   "outputs": [],
   "source": []
  }
 ],
 "metadata": {
  "kernelspec": {
   "display_name": "Python 3",
   "language": "python",
   "name": "python3"
  },
  "language_info": {
   "codemirror_mode": {
    "name": "ipython",
    "version": 3
   },
   "file_extension": ".py",
   "mimetype": "text/x-python",
   "name": "python",
   "nbconvert_exporter": "python",
   "pygments_lexer": "ipython3",
   "version": "3.8.8"
  }
 },
 "nbformat": 4,
 "nbformat_minor": 5
}
